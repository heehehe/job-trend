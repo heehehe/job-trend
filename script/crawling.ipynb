{
 "cells": [
  {
   "cell_type": "code",
   "execution_count": 2,
   "outputs": [
    {
     "name": "stderr",
     "output_type": "stream",
     "text": [
      "/Users/user/Library/Python/3.8/lib/python/site-packages/urllib3/__init__.py:34: NotOpenSSLWarning: urllib3 v2.0 only supports OpenSSL 1.1.1+, currently the 'ssl' module is compiled with 'LibreSSL 2.8.3'. See: https://github.com/urllib3/urllib3/issues/3020\n",
      "  warnings.warn(\n"
     ]
    }
   ],
   "source": [
    "import requests\n",
    "from bs4 import BeautifulSoup\n",
    "import time\n",
    "import json\n",
    "from collections import defaultdict\n",
    "\n",
    "from selenium import webdriver\n",
    "from selenium.webdriver.common.by import By\n",
    "from selenium.webdriver.common.action_chains import ActionChains\n",
    "from selenium.webdriver.support.ui import WebDriverWait"
   ],
   "metadata": {
    "collapsed": false,
    "ExecuteTime": {
     "end_time": "2024-01-03T14:32:00.918514Z",
     "start_time": "2024-01-03T14:32:00.657875Z"
    }
   },
   "id": "e7a3428cc9697e0e"
  },
  {
   "cell_type": "code",
   "execution_count": 11,
   "outputs": [],
   "source": [
    "headers = {\n",
    "    'User-Agent': 'Mozilla/5.0 (Macintosh; Intel Mac OS X 10_15_7) AppleWebKit/537.36 (KHTML, like Gecko) Chrome/88.0.4324.150 Safari/537.36'\n",
    "}\n",
    "\n",
    "driver = webdriver.Safari()"
   ],
   "metadata": {
    "collapsed": false,
    "ExecuteTime": {
     "end_time": "2023-12-16T01:28:19.383036Z",
     "start_time": "2023-12-16T01:28:18.122900Z"
    }
   },
   "id": "initial_id"
  },
  {
   "cell_type": "code",
   "execution_count": 59,
   "outputs": [],
   "source": [
    "job_category_dict = {\n",
    "\t10110: \"소프트웨어 엔지니어\",\n",
    "\t873: \"웹 개발자\",\n",
    "\t872: \"서버 개발자\",\n",
    "\t669: \"프론트엔드 개발자\",\n",
    "\t660: \"자바 개발자\",\n",
    "\t900: \"C,C++ 개발자\",\n",
    "\t899: \"파이썬 개발자\",\n",
    "\t1634: \"머신러닝 엔지니어\",\n",
    "\t674: \"DevOps / 시스템 관리자\",\n",
    "\t665: \"시스템,네트워크 관리자\",\n",
    "\t655: \"데이터 엔지니어\",\n",
    "\t895: \"Node.js 개발자\",\n",
    "\t677: \"안드로이드 개발자\",\n",
    "\t678: \"iOS 개발자\",\n",
    "\t658: \"임베디드 개발자\",\n",
    "\t877: \"개발 매니저\",\n",
    "\t1024: \"데이터 사이언티스트\",\n",
    "\t1026: \"기술지원\",\n",
    "\t676: \"QA,테스트 엔지니어\",\n",
    "\t672: \"하드웨어 엔지니어\",\n",
    "\t1025: \"빅데이터 엔지니어\",\n",
    "\t671: \"보안 엔지니어\",\n",
    "\t876: \"프로덕트 매니저\",\n",
    "\t10111: \"크로스플랫폼 앱 개발자\",\n",
    "\t1027: \"블록체인 플랫폼 엔지니어\",\n",
    "\t10231: \"DBA\",\n",
    "\t893: \"PHP 개발자\",\n",
    "\t661: \".NET 개발자\",\n",
    "\t896: \"영상,음성 엔지니어\",\n",
    "\t10230: \"ERP전문가\",\n",
    "\t939: \"웹 퍼블리셔\",\n",
    "\t898: \"그래픽스 엔지니어\",\n",
    "\t795: \"CTO,Chief Technology Officer\",\n",
    "\t10112: \"VR 엔지니어\",\n",
    "\t1022: \"BI 엔지니어\",\n",
    "\t894: \"루비온레일즈 개발자\",\n",
    "\t793: \"CIO,Chief Information Officer\"\n",
    "}"
   ],
   "metadata": {
    "collapsed": false,
    "ExecuteTime": {
     "end_time": "2023-12-14T22:22:35.011081Z",
     "start_time": "2023-12-14T22:22:35.003198Z"
    }
   },
   "id": "f2d6d08a2929de74"
  },
  {
   "cell_type": "markdown",
   "source": [
    "채용공고 url 추출"
   ],
   "metadata": {
    "collapsed": false
   },
   "id": "73ca4cb59af21eba"
  },
  {
   "cell_type": "code",
   "execution_count": 80,
   "outputs": [],
   "source": [
    "job_category_url = {}"
   ],
   "metadata": {
    "collapsed": false,
    "ExecuteTime": {
     "end_time": "2023-12-14T22:32:53.290778Z",
     "start_time": "2023-12-14T22:32:53.279615Z"
    }
   },
   "id": "6bdb8cabe7d2320c"
  },
  {
   "cell_type": "code",
   "execution_count": 83,
   "outputs": [
    {
     "name": "stdout",
     "output_type": "stream",
     "text": [
      "10110\n",
      "873\n",
      "872\n",
      "669\n",
      "900\n",
      "660\n",
      "899\n",
      "1634\n",
      "674\n",
      "665\n",
      "655\n",
      "895\n",
      "677\n",
      "678\n",
      "658\n",
      "877\n",
      "1024\n",
      "1026\n",
      "676\n",
      "672\n",
      "1025\n",
      "671\n",
      "876\n",
      "10111\n",
      "1027\n",
      "10231\n",
      "893\n",
      "661\n",
      "896\n",
      "10230\n",
      "939\n",
      "898\n",
      "795\n",
      "10112\n",
      "1022\n",
      "894\n",
      "793\n"
     ]
    }
   ],
   "source": [
    "for key in job_category_dict:\n",
    "\tprint(key)\n",
    "\tdriver.get(f\"https://www.wanted.co.kr/wdlist/518/{key}\")\n",
    "\t\n",
    "\t_page_source = \"\"\n",
    "\twhile True:\n",
    "\t\tdriver.execute_script(\"window.scrollTo(0, document.body.scrollHeight);\")\n",
    "\t\ttime.sleep(1)\n",
    "\t\tif _page_source == driver.page_source:\n",
    "\t\t\tbreak\n",
    "\t\telse:\n",
    "\t\t\t_page_source = driver.page_source\n",
    "\t\n",
    "\tsoup = BeautifulSoup(_page_source, 'html.parser')\n",
    "\tul_element = soup.find('ul', {'data-cy': 'job-list'})\n",
    "\tjob_category_url[key] = [a_tag['href'] for a_tag in ul_element.find_all('a') if a_tag.get('href', '').startswith('/wd/')]\n",
    "\t\n",
    "\twith open('../data/wanted.url.json', 'w') as f:\n",
    "\t\tjson.dump(job_category_url, f)"
   ],
   "metadata": {
    "collapsed": false,
    "ExecuteTime": {
     "end_time": "2023-12-14T22:52:38.185713Z",
     "start_time": "2023-12-14T22:34:13.854062Z"
    }
   },
   "id": "15dcccc2feb58450"
  },
  {
   "cell_type": "markdown",
   "source": [
    "상세정보 크롤링"
   ],
   "metadata": {
    "collapsed": false
   },
   "id": "185bc3b94d7cb13c"
  },
  {
   "cell_type": "code",
   "execution_count": 3,
   "outputs": [],
   "source": [
    "with open(\"../data/wanted.url.json\") as f:\n",
    "\tjob_category_url = json.load(f)"
   ],
   "metadata": {
    "collapsed": false,
    "ExecuteTime": {
     "end_time": "2024-01-03T14:33:26.229321Z",
     "start_time": "2024-01-03T14:33:26.212673Z"
    }
   },
   "id": "1763af2297e686df"
  },
  {
   "cell_type": "code",
   "execution_count": 4,
   "outputs": [],
   "source": [
    "content_info_dict = defaultdict(dict)\n",
    "with open(\"../data/wanted.content.json\") as f:\n",
    "\tcontent_info_dict = json.load(f)"
   ],
   "metadata": {
    "collapsed": false,
    "ExecuteTime": {
     "end_time": "2024-01-03T14:33:51.752149Z",
     "start_time": "2024-01-03T14:33:27.716858Z"
    }
   },
   "id": "c83cfe03f07a4cbc"
  },
  {
   "cell_type": "code",
   "execution_count": 5,
   "outputs": [
    {
     "ename": "KeyboardInterrupt",
     "evalue": "",
     "output_type": "error",
     "traceback": [
      "\u001B[0;31m---------------------------------------------------------------------------\u001B[0m",
      "\u001B[0;31mKeyboardInterrupt\u001B[0m                         Traceback (most recent call last)",
      "Cell \u001B[0;32mIn[5], line 19\u001B[0m\n\u001B[1;32m     16\u001B[0m \tcontent_info_dict[key][v] \u001B[38;5;241m=\u001B[39m driver\u001B[38;5;241m.\u001B[39mpage_source\n\u001B[1;32m     18\u001B[0m \u001B[38;5;28;01mwith\u001B[39;00m \u001B[38;5;28mopen\u001B[39m(\u001B[38;5;124m'\u001B[39m\u001B[38;5;124m../data/wanted.content.json\u001B[39m\u001B[38;5;124m'\u001B[39m, \u001B[38;5;124m'\u001B[39m\u001B[38;5;124mw\u001B[39m\u001B[38;5;124m'\u001B[39m) \u001B[38;5;28;01mas\u001B[39;00m f:\n\u001B[0;32m---> 19\u001B[0m \t\u001B[43mjson\u001B[49m\u001B[38;5;241;43m.\u001B[39;49m\u001B[43mdump\u001B[49m\u001B[43m(\u001B[49m\u001B[43mcontent_info_dict\u001B[49m\u001B[43m,\u001B[49m\u001B[43m \u001B[49m\u001B[43mf\u001B[49m\u001B[43m)\u001B[49m\n",
      "File \u001B[0;32m/Library/Developer/CommandLineTools/Library/Frameworks/Python3.framework/Versions/3.8/lib/python3.8/json/__init__.py:179\u001B[0m, in \u001B[0;36mdump\u001B[0;34m(obj, fp, skipkeys, ensure_ascii, check_circular, allow_nan, cls, indent, separators, default, sort_keys, **kw)\u001B[0m\n\u001B[1;32m    173\u001B[0m     iterable \u001B[38;5;241m=\u001B[39m \u001B[38;5;28mcls\u001B[39m(skipkeys\u001B[38;5;241m=\u001B[39mskipkeys, ensure_ascii\u001B[38;5;241m=\u001B[39mensure_ascii,\n\u001B[1;32m    174\u001B[0m         check_circular\u001B[38;5;241m=\u001B[39mcheck_circular, allow_nan\u001B[38;5;241m=\u001B[39mallow_nan, indent\u001B[38;5;241m=\u001B[39mindent,\n\u001B[1;32m    175\u001B[0m         separators\u001B[38;5;241m=\u001B[39mseparators,\n\u001B[1;32m    176\u001B[0m         default\u001B[38;5;241m=\u001B[39mdefault, sort_keys\u001B[38;5;241m=\u001B[39msort_keys, \u001B[38;5;241m*\u001B[39m\u001B[38;5;241m*\u001B[39mkw)\u001B[38;5;241m.\u001B[39miterencode(obj)\n\u001B[1;32m    177\u001B[0m \u001B[38;5;66;03m# could accelerate with writelines in some versions of Python, at\u001B[39;00m\n\u001B[1;32m    178\u001B[0m \u001B[38;5;66;03m# a debuggability cost\u001B[39;00m\n\u001B[0;32m--> 179\u001B[0m \u001B[38;5;28;01mfor\u001B[39;00m chunk \u001B[38;5;129;01min\u001B[39;00m iterable:\n\u001B[1;32m    180\u001B[0m     fp\u001B[38;5;241m.\u001B[39mwrite(chunk)\n",
      "File \u001B[0;32m/Library/Developer/CommandLineTools/Library/Frameworks/Python3.framework/Versions/3.8/lib/python3.8/json/encoder.py:431\u001B[0m, in \u001B[0;36m_make_iterencode.<locals>._iterencode\u001B[0;34m(o, _current_indent_level)\u001B[0m\n\u001B[1;32m    429\u001B[0m     \u001B[38;5;28;01myield from\u001B[39;00m _iterencode_list(o, _current_indent_level)\n\u001B[1;32m    430\u001B[0m \u001B[38;5;28;01melif\u001B[39;00m \u001B[38;5;28misinstance\u001B[39m(o, \u001B[38;5;28mdict\u001B[39m):\n\u001B[0;32m--> 431\u001B[0m     \u001B[38;5;28;01myield from\u001B[39;00m _iterencode_dict(o, _current_indent_level)\n\u001B[1;32m    432\u001B[0m \u001B[38;5;28;01melse\u001B[39;00m:\n\u001B[1;32m    433\u001B[0m     \u001B[38;5;28;01mif\u001B[39;00m markers \u001B[38;5;129;01mis\u001B[39;00m \u001B[38;5;129;01mnot\u001B[39;00m \u001B[38;5;28;01mNone\u001B[39;00m:\n",
      "File \u001B[0;32m/Library/Developer/CommandLineTools/Library/Frameworks/Python3.framework/Versions/3.8/lib/python3.8/json/encoder.py:405\u001B[0m, in \u001B[0;36m_make_iterencode.<locals>._iterencode_dict\u001B[0;34m(dct, _current_indent_level)\u001B[0m\n\u001B[1;32m    403\u001B[0m         \u001B[38;5;28;01melse\u001B[39;00m:\n\u001B[1;32m    404\u001B[0m             chunks \u001B[38;5;241m=\u001B[39m _iterencode(value, _current_indent_level)\n\u001B[0;32m--> 405\u001B[0m         \u001B[38;5;28;01myield from\u001B[39;00m chunks\n\u001B[1;32m    406\u001B[0m \u001B[38;5;28;01mif\u001B[39;00m newline_indent \u001B[38;5;129;01mis\u001B[39;00m \u001B[38;5;129;01mnot\u001B[39;00m \u001B[38;5;28;01mNone\u001B[39;00m:\n\u001B[1;32m    407\u001B[0m     _current_indent_level \u001B[38;5;241m-\u001B[39m\u001B[38;5;241m=\u001B[39m \u001B[38;5;241m1\u001B[39m\n",
      "File \u001B[0;32m/Library/Developer/CommandLineTools/Library/Frameworks/Python3.framework/Versions/3.8/lib/python3.8/json/encoder.py:385\u001B[0m, in \u001B[0;36m_make_iterencode.<locals>._iterencode_dict\u001B[0;34m(dct, _current_indent_level)\u001B[0m\n\u001B[1;32m    383\u001B[0m \u001B[38;5;28;01myield\u001B[39;00m _key_separator\n\u001B[1;32m    384\u001B[0m \u001B[38;5;28;01mif\u001B[39;00m \u001B[38;5;28misinstance\u001B[39m(value, \u001B[38;5;28mstr\u001B[39m):\n\u001B[0;32m--> 385\u001B[0m     \u001B[38;5;28;01myield\u001B[39;00m \u001B[43m_encoder\u001B[49m\u001B[43m(\u001B[49m\u001B[43mvalue\u001B[49m\u001B[43m)\u001B[49m\n\u001B[1;32m    386\u001B[0m \u001B[38;5;28;01melif\u001B[39;00m value \u001B[38;5;129;01mis\u001B[39;00m \u001B[38;5;28;01mNone\u001B[39;00m:\n\u001B[1;32m    387\u001B[0m     \u001B[38;5;28;01myield\u001B[39;00m \u001B[38;5;124m'\u001B[39m\u001B[38;5;124mnull\u001B[39m\u001B[38;5;124m'\u001B[39m\n",
      "\u001B[0;31mKeyboardInterrupt\u001B[0m: "
     ]
    }
   ],
   "source": [
    "done_list = []\n",
    "for k,v in content_info_dict.items():\n",
    "\tdone_list.extend([\n",
    "\t\tvv for vv in v\n",
    "\t])\n",
    "\n",
    "driver = webdriver.Safari()\n",
    "\n",
    "for key, value in job_category_url.items():\n",
    "\tfor v in value:\n",
    "\t\tif v in done_list: continue\n",
    "\t\tdriver.get(f\"https://www.wanted.co.kr{v}\")\n",
    "\t\ttime.sleep(1)\n",
    "\t\tif key not in content_info_dict:\n",
    "\t\t\tcontent_info_dict[key] = dict()\n",
    "\t\tcontent_info_dict[key][v] = driver.page_source\n",
    "\n",
    "\twith open('../data/wanted.content.json', 'w') as f:\n",
    "\t\tjson.dump(content_info_dict, f)"
   ],
   "metadata": {
    "collapsed": false,
    "ExecuteTime": {
     "end_time": "2024-01-03T16:57:25.053433Z",
     "start_time": "2024-01-03T14:41:29.827483Z"
    }
   },
   "id": "1d9ebe3de736cd51"
  },
  {
   "cell_type": "code",
   "execution_count": null,
   "outputs": [],
   "source": [
    "with open('../data/wanted.content.json', 'w') as f:\n",
    "\tjson.dump(content_info_dict, f)"
   ],
   "metadata": {
    "collapsed": false,
    "is_executing": true,
    "ExecuteTime": {
     "start_time": "2024-01-03T16:57:27.249862Z"
    }
   },
   "id": "502c720429c29091"
  },
  {
   "cell_type": "code",
   "execution_count": 41,
   "outputs": [],
   "source": [
    "driver.get(\"https://www.wanted.co.kr/wd/195703\")"
   ],
   "metadata": {
    "collapsed": false,
    "ExecuteTime": {
     "end_time": "2023-12-14T21:56:02.727862Z",
     "start_time": "2023-12-14T21:56:02.261380Z"
    }
   },
   "id": "816ca1b82df7d763"
  },
  {
   "cell_type": "code",
   "execution_count": 42,
   "outputs": [],
   "source": [
    "source = driver.page_source"
   ],
   "metadata": {
    "collapsed": false,
    "ExecuteTime": {
     "end_time": "2023-12-14T21:59:17.190567Z",
     "start_time": "2023-12-14T21:59:16.991053Z"
    }
   },
   "id": "3fe2cb40bb3fdb80"
  },
  {
   "cell_type": "markdown",
   "source": [
    "### 상세정보 추출\n",
    "\n",
    "- url : 채용공고 url\n",
    "- title : 채용공고명\n",
    "- job_category : 직무 분류 코드\n",
    "- job_name : 직무명\n",
    "- company_id : 회사 분류 id\n",
    "- company_name : 회사명\n",
    "- deadline : 마감일\n",
    "- tech_list : 기술스택 목록\n",
    "- academic_background : 학력\n",
    "- career : 경력 (몇년차 요구하는지)\n",
    "- location : 위치\n",
    "- tag_id : 복지 관련 id\n",
    "- tag_name : 복지 목록"
   ],
   "metadata": {
    "collapsed": false
   },
   "id": "ccab1f1cbe6968e3"
  },
  {
   "cell_type": "code",
   "execution_count": 2,
   "outputs": [
    {
     "ename": "KeyboardInterrupt",
     "evalue": "",
     "output_type": "error",
     "traceback": [
      "\u001B[0;31m---------------------------------------------------------------------------\u001B[0m",
      "\u001B[0;31mKeyboardInterrupt\u001B[0m                         Traceback (most recent call last)",
      "Cell \u001B[0;32mIn[2], line 2\u001B[0m\n\u001B[1;32m      1\u001B[0m \u001B[38;5;28;01mwith\u001B[39;00m \u001B[38;5;28mopen\u001B[39m(\u001B[38;5;124m\"\u001B[39m\u001B[38;5;124m../data/wanted.content.json\u001B[39m\u001B[38;5;124m\"\u001B[39m) \u001B[38;5;28;01mas\u001B[39;00m f:\n\u001B[0;32m----> 2\u001B[0m \tcontent_info_dict \u001B[38;5;241m=\u001B[39m \u001B[43mjson\u001B[49m\u001B[38;5;241;43m.\u001B[39;49m\u001B[43mload\u001B[49m\u001B[43m(\u001B[49m\u001B[43mf\u001B[49m\u001B[43m)\u001B[49m\n",
      "File \u001B[0;32m/Library/Developer/CommandLineTools/Library/Frameworks/Python3.framework/Versions/3.8/lib/python3.8/json/__init__.py:293\u001B[0m, in \u001B[0;36mload\u001B[0;34m(fp, cls, object_hook, parse_float, parse_int, parse_constant, object_pairs_hook, **kw)\u001B[0m\n\u001B[1;32m    274\u001B[0m \u001B[38;5;28;01mdef\u001B[39;00m \u001B[38;5;21mload\u001B[39m(fp, \u001B[38;5;241m*\u001B[39m, \u001B[38;5;28mcls\u001B[39m\u001B[38;5;241m=\u001B[39m\u001B[38;5;28;01mNone\u001B[39;00m, object_hook\u001B[38;5;241m=\u001B[39m\u001B[38;5;28;01mNone\u001B[39;00m, parse_float\u001B[38;5;241m=\u001B[39m\u001B[38;5;28;01mNone\u001B[39;00m,\n\u001B[1;32m    275\u001B[0m         parse_int\u001B[38;5;241m=\u001B[39m\u001B[38;5;28;01mNone\u001B[39;00m, parse_constant\u001B[38;5;241m=\u001B[39m\u001B[38;5;28;01mNone\u001B[39;00m, object_pairs_hook\u001B[38;5;241m=\u001B[39m\u001B[38;5;28;01mNone\u001B[39;00m, \u001B[38;5;241m*\u001B[39m\u001B[38;5;241m*\u001B[39mkw):\n\u001B[1;32m    276\u001B[0m \u001B[38;5;250m    \u001B[39m\u001B[38;5;124;03m\"\"\"Deserialize ``fp`` (a ``.read()``-supporting file-like object containing\u001B[39;00m\n\u001B[1;32m    277\u001B[0m \u001B[38;5;124;03m    a JSON document) to a Python object.\u001B[39;00m\n\u001B[1;32m    278\u001B[0m \n\u001B[0;32m   (...)\u001B[0m\n\u001B[1;32m    291\u001B[0m \u001B[38;5;124;03m    kwarg; otherwise ``JSONDecoder`` is used.\u001B[39;00m\n\u001B[1;32m    292\u001B[0m \u001B[38;5;124;03m    \"\"\"\u001B[39;00m\n\u001B[0;32m--> 293\u001B[0m     \u001B[38;5;28;01mreturn\u001B[39;00m \u001B[43mloads\u001B[49m\u001B[43m(\u001B[49m\u001B[43mfp\u001B[49m\u001B[38;5;241;43m.\u001B[39;49m\u001B[43mread\u001B[49m\u001B[43m(\u001B[49m\u001B[43m)\u001B[49m\u001B[43m,\u001B[49m\n\u001B[1;32m    294\u001B[0m \u001B[43m        \u001B[49m\u001B[38;5;28;43mcls\u001B[39;49m\u001B[38;5;241;43m=\u001B[39;49m\u001B[38;5;28;43mcls\u001B[39;49m\u001B[43m,\u001B[49m\u001B[43m \u001B[49m\u001B[43mobject_hook\u001B[49m\u001B[38;5;241;43m=\u001B[39;49m\u001B[43mobject_hook\u001B[49m\u001B[43m,\u001B[49m\n\u001B[1;32m    295\u001B[0m \u001B[43m        \u001B[49m\u001B[43mparse_float\u001B[49m\u001B[38;5;241;43m=\u001B[39;49m\u001B[43mparse_float\u001B[49m\u001B[43m,\u001B[49m\u001B[43m \u001B[49m\u001B[43mparse_int\u001B[49m\u001B[38;5;241;43m=\u001B[39;49m\u001B[43mparse_int\u001B[49m\u001B[43m,\u001B[49m\n\u001B[1;32m    296\u001B[0m \u001B[43m        \u001B[49m\u001B[43mparse_constant\u001B[49m\u001B[38;5;241;43m=\u001B[39;49m\u001B[43mparse_constant\u001B[49m\u001B[43m,\u001B[49m\u001B[43m \u001B[49m\u001B[43mobject_pairs_hook\u001B[49m\u001B[38;5;241;43m=\u001B[39;49m\u001B[43mobject_pairs_hook\u001B[49m\u001B[43m,\u001B[49m\u001B[43m \u001B[49m\u001B[38;5;241;43m*\u001B[39;49m\u001B[38;5;241;43m*\u001B[39;49m\u001B[43mkw\u001B[49m\u001B[43m)\u001B[49m\n",
      "File \u001B[0;32m/Library/Developer/CommandLineTools/Library/Frameworks/Python3.framework/Versions/3.8/lib/python3.8/json/__init__.py:357\u001B[0m, in \u001B[0;36mloads\u001B[0;34m(s, cls, object_hook, parse_float, parse_int, parse_constant, object_pairs_hook, **kw)\u001B[0m\n\u001B[1;32m    352\u001B[0m     \u001B[38;5;28;01mdel\u001B[39;00m kw[\u001B[38;5;124m'\u001B[39m\u001B[38;5;124mencoding\u001B[39m\u001B[38;5;124m'\u001B[39m]\n\u001B[1;32m    354\u001B[0m \u001B[38;5;28;01mif\u001B[39;00m (\u001B[38;5;28mcls\u001B[39m \u001B[38;5;129;01mis\u001B[39;00m \u001B[38;5;28;01mNone\u001B[39;00m \u001B[38;5;129;01mand\u001B[39;00m object_hook \u001B[38;5;129;01mis\u001B[39;00m \u001B[38;5;28;01mNone\u001B[39;00m \u001B[38;5;129;01mand\u001B[39;00m\n\u001B[1;32m    355\u001B[0m         parse_int \u001B[38;5;129;01mis\u001B[39;00m \u001B[38;5;28;01mNone\u001B[39;00m \u001B[38;5;129;01mand\u001B[39;00m parse_float \u001B[38;5;129;01mis\u001B[39;00m \u001B[38;5;28;01mNone\u001B[39;00m \u001B[38;5;129;01mand\u001B[39;00m\n\u001B[1;32m    356\u001B[0m         parse_constant \u001B[38;5;129;01mis\u001B[39;00m \u001B[38;5;28;01mNone\u001B[39;00m \u001B[38;5;129;01mand\u001B[39;00m object_pairs_hook \u001B[38;5;129;01mis\u001B[39;00m \u001B[38;5;28;01mNone\u001B[39;00m \u001B[38;5;129;01mand\u001B[39;00m \u001B[38;5;129;01mnot\u001B[39;00m kw):\n\u001B[0;32m--> 357\u001B[0m     \u001B[38;5;28;01mreturn\u001B[39;00m \u001B[43m_default_decoder\u001B[49m\u001B[38;5;241;43m.\u001B[39;49m\u001B[43mdecode\u001B[49m\u001B[43m(\u001B[49m\u001B[43ms\u001B[49m\u001B[43m)\u001B[49m\n\u001B[1;32m    358\u001B[0m \u001B[38;5;28;01mif\u001B[39;00m \u001B[38;5;28mcls\u001B[39m \u001B[38;5;129;01mis\u001B[39;00m \u001B[38;5;28;01mNone\u001B[39;00m:\n\u001B[1;32m    359\u001B[0m     \u001B[38;5;28mcls\u001B[39m \u001B[38;5;241m=\u001B[39m JSONDecoder\n",
      "File \u001B[0;32m/Library/Developer/CommandLineTools/Library/Frameworks/Python3.framework/Versions/3.8/lib/python3.8/json/decoder.py:337\u001B[0m, in \u001B[0;36mJSONDecoder.decode\u001B[0;34m(self, s, _w)\u001B[0m\n\u001B[1;32m    332\u001B[0m \u001B[38;5;28;01mdef\u001B[39;00m \u001B[38;5;21mdecode\u001B[39m(\u001B[38;5;28mself\u001B[39m, s, _w\u001B[38;5;241m=\u001B[39mWHITESPACE\u001B[38;5;241m.\u001B[39mmatch):\n\u001B[1;32m    333\u001B[0m \u001B[38;5;250m    \u001B[39m\u001B[38;5;124;03m\"\"\"Return the Python representation of ``s`` (a ``str`` instance\u001B[39;00m\n\u001B[1;32m    334\u001B[0m \u001B[38;5;124;03m    containing a JSON document).\u001B[39;00m\n\u001B[1;32m    335\u001B[0m \n\u001B[1;32m    336\u001B[0m \u001B[38;5;124;03m    \"\"\"\u001B[39;00m\n\u001B[0;32m--> 337\u001B[0m     obj, end \u001B[38;5;241m=\u001B[39m \u001B[38;5;28;43mself\u001B[39;49m\u001B[38;5;241;43m.\u001B[39;49m\u001B[43mraw_decode\u001B[49m\u001B[43m(\u001B[49m\u001B[43ms\u001B[49m\u001B[43m,\u001B[49m\u001B[43m \u001B[49m\u001B[43midx\u001B[49m\u001B[38;5;241;43m=\u001B[39;49m\u001B[43m_w\u001B[49m\u001B[43m(\u001B[49m\u001B[43ms\u001B[49m\u001B[43m,\u001B[49m\u001B[43m \u001B[49m\u001B[38;5;241;43m0\u001B[39;49m\u001B[43m)\u001B[49m\u001B[38;5;241;43m.\u001B[39;49m\u001B[43mend\u001B[49m\u001B[43m(\u001B[49m\u001B[43m)\u001B[49m\u001B[43m)\u001B[49m\n\u001B[1;32m    338\u001B[0m     end \u001B[38;5;241m=\u001B[39m _w(s, end)\u001B[38;5;241m.\u001B[39mend()\n\u001B[1;32m    339\u001B[0m     \u001B[38;5;28;01mif\u001B[39;00m end \u001B[38;5;241m!=\u001B[39m \u001B[38;5;28mlen\u001B[39m(s):\n",
      "File \u001B[0;32m/Library/Developer/CommandLineTools/Library/Frameworks/Python3.framework/Versions/3.8/lib/python3.8/json/decoder.py:353\u001B[0m, in \u001B[0;36mJSONDecoder.raw_decode\u001B[0;34m(self, s, idx)\u001B[0m\n\u001B[1;32m    344\u001B[0m \u001B[38;5;250m\u001B[39m\u001B[38;5;124;03m\"\"\"Decode a JSON document from ``s`` (a ``str`` beginning with\u001B[39;00m\n\u001B[1;32m    345\u001B[0m \u001B[38;5;124;03ma JSON document) and return a 2-tuple of the Python\u001B[39;00m\n\u001B[1;32m    346\u001B[0m \u001B[38;5;124;03mrepresentation and the index in ``s`` where the document ended.\u001B[39;00m\n\u001B[0;32m   (...)\u001B[0m\n\u001B[1;32m    350\u001B[0m \n\u001B[1;32m    351\u001B[0m \u001B[38;5;124;03m\"\"\"\u001B[39;00m\n\u001B[1;32m    352\u001B[0m \u001B[38;5;28;01mtry\u001B[39;00m:\n\u001B[0;32m--> 353\u001B[0m     obj, end \u001B[38;5;241m=\u001B[39m \u001B[38;5;28;43mself\u001B[39;49m\u001B[38;5;241;43m.\u001B[39;49m\u001B[43mscan_once\u001B[49m\u001B[43m(\u001B[49m\u001B[43ms\u001B[49m\u001B[43m,\u001B[49m\u001B[43m \u001B[49m\u001B[43midx\u001B[49m\u001B[43m)\u001B[49m\n\u001B[1;32m    354\u001B[0m \u001B[38;5;28;01mexcept\u001B[39;00m \u001B[38;5;167;01mStopIteration\u001B[39;00m \u001B[38;5;28;01mas\u001B[39;00m err:\n\u001B[1;32m    355\u001B[0m     \u001B[38;5;28;01mraise\u001B[39;00m JSONDecodeError(\u001B[38;5;124m\"\u001B[39m\u001B[38;5;124mExpecting value\u001B[39m\u001B[38;5;124m\"\u001B[39m, s, err\u001B[38;5;241m.\u001B[39mvalue) \u001B[38;5;28;01mfrom\u001B[39;00m \u001B[38;5;28;01mNone\u001B[39;00m\n",
      "\u001B[0;31mKeyboardInterrupt\u001B[0m: "
     ]
    }
   ],
   "source": [
    "with open(\"../data/wanted.content.json\") as f:\n",
    "\tcontent_info_dict = json.load(f)"
   ],
   "metadata": {
    "collapsed": false,
    "ExecuteTime": {
     "end_time": "2023-12-16T03:23:23.400166Z",
     "start_time": "2023-12-16T03:23:12.798096Z"
    }
   },
   "id": "2279d6d2d1328bd3"
  },
  {
   "cell_type": "code",
   "execution_count": 7,
   "outputs": [],
   "source": [
    "for key, value in content_info_dict.items():\n",
    "\tfor url, page_source in value.items():\n",
    "\t\tbreak"
   ],
   "metadata": {
    "collapsed": false,
    "ExecuteTime": {
     "end_time": "2023-12-15T09:22:13.462957Z",
     "start_time": "2023-12-15T09:22:13.420123Z"
    }
   },
   "id": "48d1ee6c8a1f34bc"
  },
  {
   "cell_type": "code",
   "execution_count": 51,
   "outputs": [],
   "source": [
    "driver.get(\"https://www.wanted.co.kr/wd/195530\")"
   ],
   "metadata": {
    "collapsed": false,
    "ExecuteTime": {
     "end_time": "2023-12-15T09:32:41.360788Z",
     "start_time": "2023-12-15T09:32:40.410146Z"
    }
   },
   "id": "be9345b3389eb75a"
  },
  {
   "cell_type": "code",
   "execution_count": 83,
   "outputs": [],
   "source": [
    "page_source = driver.page_source"
   ],
   "metadata": {
    "collapsed": false,
    "ExecuteTime": {
     "end_time": "2023-12-15T09:42:47.433713Z",
     "start_time": "2023-12-15T09:42:47.197286Z"
    }
   },
   "id": "43b85b0a303dc43c"
  },
  {
   "cell_type": "code",
   "execution_count": 9,
   "outputs": [
    {
     "data": {
      "text/plain": "'/wd/195530'"
     },
     "execution_count": 9,
     "metadata": {},
     "output_type": "execute_result"
    }
   ],
   "source": [
    "url"
   ],
   "metadata": {
    "collapsed": false,
    "ExecuteTime": {
     "end_time": "2023-12-15T09:23:50.943513Z",
     "start_time": "2023-12-15T09:23:50.924812Z"
    }
   },
   "id": "e07d0bd89864147"
  },
  {
   "cell_type": "code",
   "execution_count": 84,
   "outputs": [],
   "source": [
    "soup = BeautifulSoup(page_source, 'html.parser')"
   ],
   "metadata": {
    "collapsed": false,
    "ExecuteTime": {
     "end_time": "2023-12-15T09:42:48.677611Z",
     "start_time": "2023-12-15T09:42:48.672167Z"
    }
   },
   "id": "645e71fe86a7af73"
  },
  {
   "cell_type": "code",
   "execution_count": null,
   "outputs": [],
   "source": [
    "TAG2FIELD_MAP = {\n",
    "\t\"설명\": \"description\",\n",
    "\t\"주요업무\": \"main_work\",\n",
    "\t\"자격요건\": \"qualification\",\n",
    "\t\"우대사항\": \"preferences\",\n",
    "\t\"혜택 및 복지\": \"welfare\",\n",
    "\t\"기술스택 ・ 툴\": \"tech_list\"\n",
    "} "
   ],
   "metadata": {
    "collapsed": false
   },
   "id": "e3417578e46cc8f6"
  },
  {
   "cell_type": "code",
   "execution_count": 133,
   "outputs": [],
   "source": [
    "result = {}\n",
    "\n",
    "job_header = soup.find(\"section\", class_=\"JobHeader_className__HttDA\")\n",
    "\n",
    "result['title'] = job_header.find(\"h2\").text\n",
    "\n",
    "_company_info = job_header.find(\"span\", class_=\"JobHeader_companyNameText__uuJyu\")\n",
    "result['company_name'] = _company_info.text\n",
    "result['company_id'] = _company_info.find(\"a\")[\"href\"]\n",
    "\n",
    "_tag_list = job_header.find(\"div\", class_=\"Tags_tagsClass__mvehZ\").find_all(\"a\")\n",
    "result['tag_name'] = [tag.text.lstrip(\"#\") for tag in _tag_list]\n",
    "result['tag_id'] = [tag[\"href\"] for tag in _tag_list]"
   ],
   "metadata": {
    "collapsed": false,
    "ExecuteTime": {
     "end_time": "2023-12-15T10:04:55.174673Z",
     "start_time": "2023-12-15T10:04:55.161345Z"
    }
   },
   "id": "d0f571c811955d08"
  },
  {
   "cell_type": "code",
   "execution_count": 134,
   "outputs": [],
   "source": [
    "job_body = soup.find(\"section\", class_=\"JobDescription_JobDescription__VWfcb\")\n",
    "\n",
    "p_tags = job_body.find_all(\"p\")\n",
    "h3_tags = job_body.find_all(\"h3\")\n",
    "\n",
    "for i, p_tag in enumerate(p_tags):\n",
    "\th3_tag = h3_tags[i-1].text if i != 0 else \"설명\"\n",
    "\tif h3_tag not in TAG2FIELD_MAP:\n",
    "\t\tcontinue\n",
    "\t\n",
    "\tfield_name = TAG2FIELD_MAP[h3_tag]\n",
    "\tif field_name == \"tech_list\":\n",
    "\t\tresult[field_name] = [\n",
    "\t\t\tskill.text for skill in p_tag.find(\"div\").find_all(\"div\")\n",
    "\t\t]\n",
    "\t\tcontinue\n",
    "\n",
    "\tresult[field_name] = [\n",
    "\t\tline for lines in p_tag.text.split(\"<br>\") for line in lines.split(\"• \") if line\n",
    "\t]"
   ],
   "metadata": {
    "collapsed": false,
    "ExecuteTime": {
     "end_time": "2023-12-15T10:04:55.522532Z",
     "start_time": "2023-12-15T10:04:55.518092Z"
    }
   },
   "id": "5daae02ae9709c04"
  },
  {
   "cell_type": "code",
   "execution_count": 135,
   "outputs": [
    {
     "data": {
      "text/plain": "{'title': '데브옵스 엔지니어 (보안)',\n 'company_name': '트리플콤마(골드스푼)',\n 'company_id': '/company/8040',\n 'tag_name': ['연봉업계평균이상',\n  '인원급성장',\n  '50명이하',\n  '설립4~9년',\n  '유연근무',\n  '반려동물',\n  '맥주',\n  '커피',\n  'IT, 컨텐츠'],\n 'tag_id': ['/tag_search?tag=%25EC%2597%25B0%25EB%25B4%2589%25EC%2597%2585%25EA%25B3%2584%25ED%258F%2589%25EA%25B7%25A0%25EC%259D%25B4%25EC%2583%2581',\n  '/tag_search?tag=%25EC%259D%25B8%25EC%259B%2590%25EA%25B8%2589%25EC%2584%25B1%25EC%259E%25A5',\n  '/tag_search?tag=50%25EB%25AA%2585%25EC%259D%25B4%25ED%2595%2598',\n  '/tag_search?tag=%25EC%2584%25A4%25EB%25A6%25BD4~9%25EB%2585%2584',\n  '/tag_search?tag=%25EC%259C%25A0%25EC%2597%25B0%25EA%25B7%25BC%25EB%25AC%25B4',\n  '/tag_search?tag=%25EB%25B0%2598%25EB%25A0%25A4%25EB%258F%2599%25EB%25AC%25BC',\n  '/tag_search?tag=%25EB%25A7%25A5%25EC%25A3%25BC',\n  '/tag_search?tag=%25EC%25BB%25A4%25ED%2594%25BC',\n  '/tag_search?tag=IT%252C%2520%25EC%25BB%25A8%25ED%2585%2590%25EC%25B8%25A0'],\n 'description': ['트리플콤마는 국내 최초 서류인증 기반 프리미엄 매칭 서비스인 ‘골드스푼’ 을 개발한 기업입니다.',\n  \"2018년 당시, 불신과 의심으로 가득차있던 소개팅 앱 시장에서 골드스푼은 국내 최초로 '본인명의 서류 기반' 매칭 서비스를 개발하여 '믿을 수 있는 소개팅 서비스'라는 개념을 만들어냈으며, 전문직, 자산가, 고소득 직장인 등 자격을 갖춘 남성들에게만 가입을 허용해 '신뢰' '탁월함' '안전' 을 상징하는 서비스가 되었습니다. \",\n  '2019년에 기술보증기금으로부터 벤처기업으로 선정되었으며 공중보건 의사협회, 치과의사협회, 한의사협회와 단독제휴를 맺은 유일한 소개팅 서비스입니다.',\n  '현재 해당 분야에서 가장 빠르게 성장하고 있는 골드스푼 서비스를 발전시키기 위해 지속적으로 우수한 인재를 충원하고 있으며 이에 채용공고를 올리게 되었습니다.',\n  \"2023년 10월에는 40대를 위한 신규 서비스인 '더멤버스'를 출시하였고 영업을 시작하였습니다.* 탁월한 인재에게 최고의 보상과 성취감을 제공하는 트리플콤마에서 재능을 펼쳐보세요! *\"],\n 'main_work': ['AWS 인프라 운영 및 비용/성능 최적화 (예: EC2, RDS, .. )',\n  'AWS 보안 아키텍처 설계, 구축, 운영 및 자동화 개발',\n  '클라우드 표준 보안 요구 사항 개발',\n  '인프라/어플리케이션 모니터링 시스템 구축 및 운영',\n  'Automated CI/CD 시스템 구축 및 운영',\n  '시스템 / 데이터 백업 정책 설정 및 운영'],\n 'qualification': ['AWS 클라우드 환경에서 3년 이상의 서비스 구축 및 운영 경험',\n  'VPC flow, GuardDuty, CloudTrail의 로그 분석 경험',\n  '클라우드 환경에서의 보안 서비스 (Security Group, Network ACL, WAF) 정책 설정 경험',\n  'ISMS / ISMS-P 인증 심사 대응을 위한 기술 지원 업무 경험이 있는 분'],\n 'preferences': ['ISMS-P 인증 심사원 자격 보유자',\n  'AWS 클라우드 환경에서의 보안을 경험해 보신 분',\n  'IaC(Infrastructure as Code)에 대한 이해가 있으신 분',\n  'SIEM 시스템을 구축 운영해 보신 분',\n  'Prowler 보안툴 사용 경험이 있으신 분'],\n 'welfare': ['1. 합당한 보상',\n  '뛰어난 인재에게 합당한 보상을 지급합니다. ',\n  '열심히 하는만큼 더 받을 수 있도록 성과에 따른 인센티브도 존재합니다.2. 근무 여건의 강점',\n  '유연근무제를 시행하고 있습니다.- 주 1회 재택근무- 조직 컨디션에 따라 유연근무제 확대를 지속 검토합니다.',\n  '2호선 삼성역 2분거리 초역세권에 사무실이 있습니다.',\n  '맥주를 무제한으로 드실 수 있고 고급 커피머신이 준비되어 있습니다.',\n  '모든 직원이 서로 ~님으로 호칭하고 존댓말을 사용하는 수평적인 문화입니다.',\n  '매월 20만원씩 충전되는 식대 법인카드를 제공합니다3. 그 밖의 강점들',\n  '반려동물과 함께 출근 가능합니다.',\n  '자유롭게 연차/반차를 사용합니다.',\n  '일이 없어도 억지로 야근을 하거나, 눈치 보면서 퇴근을 하지 않습니다.',\n  '경조사비/경조휴가를 지원합니다.',\n  '식대를 제공하고 간식을 무제한 제공합니다.',\n  '4대보험을 지원합니다.'],\n 'tech_list': ['Android',\n  'Firebase',\n  'iOS',\n  'React',\n  'Java',\n  'Kotlin',\n  'Swift',\n  'TypeScript',\n  'AWS',\n  'NodeJS',\n  'iOS 개발',\n  'React Native',\n  'Flutter']}"
     },
     "execution_count": 135,
     "metadata": {},
     "output_type": "execute_result"
    }
   ],
   "source": [
    "result"
   ],
   "metadata": {
    "collapsed": false,
    "ExecuteTime": {
     "end_time": "2023-12-15T10:04:55.845248Z",
     "start_time": "2023-12-15T10:04:55.839344Z"
    }
   },
   "id": "15de533304e778f"
  },
  {
   "cell_type": "code",
   "execution_count": 89,
   "outputs": [
    {
     "data": {
      "text/plain": "'g\",\"title\":\"보일러 엔지니어\",\"counts\":{\"job\":0}},{\"id\":808,\"image\":\"https://static.wanted.co.kr/images/tags/458f3018.jpg\",\"title\":\"세라믹 엔지니어\",\"counts\":{\"job\":0}},{\"id\":820,\"image\":\"https://static.wanted.co.kr/images/tags/76b1c7be.jpg\",\"title\":\"시추 엔지니어\",\"counts\":{\"job\":0}},{\"id\":830,\"image\":\"https://static.wanted.co.kr/images/tags/e855c16c.jpg\",\"title\":\"소방안전 기술자\",\"counts\":{\"job\":0}},{\"id\":832,\"image\":\"https://static.wanted.co.kr/images/tags/4c2479b8.jpg\",\"title\":\"지리학자\",\"counts\":{\"job\":0}},{\"id\":833,\"image\":\"https://static.wanted.co.kr/images/tags/227883f2.jpg\",\"title\":\"지질공학자\",\"counts\":{\"job\":0}},{\"id\":834,\"image\":null,\"title\":\"보건안전 엔지니어\",\"counts\":{\"job\":0}},{\"id\":835,\"image\":null,\"title\":\"고압설계 엔지니어\",\"counts\":{\"job\":0}},{\"id\":838,\"image\":\"https://static.wanted.co.kr/images/tags/75370c4e-4283-11e6-adae-029e8c03f357.jpg\",\"title\":\"I\\\\u0026C 엔지니어\",\"counts\":{\"job\":0}},{\"id\":840,\"image\":null,\"title\":\"생산공학 엔지니어\",\"counts\":{\"job\":0}},{\"id\":841,\"image\":null,\"title\":\"해양공학자\",\"counts\":{\"job\":0}},{\"id\":844,\"image\":null,\"title\":\"금속 공학자\",\"counts\":{\"job\":0}},{\"id\":845,\"image\":null,\"title\":\"광산 기술자\",\"counts\":{\"job\":0}},{\"id\":846,\"image\":null,\"title\":\"광산 안전 기술자\",\"counts\":{\"job\":0}},{\"id\":847,\"image\":null,\"title\":\"선박 공학자\",\"counts\":{\"job\":0}},{\"id\":850,\"image\":null,\"title\":\"석유공학 엔지니어\",\"counts\":{\"job\":0}},{\"id\":852,\"image\":null,\"title\":\"배관설계 엔지니어\",\"counts\":{\"job\":0}},{\"id\":863,\"image\":null,\"title\":\"저수처리 엔지니어\",\"counts\":{\"job\":0}},{\"id\":869,\"image\":null,\"title\":\"터빈공학자\",\"counts\":{\"job\":0}}],\"title\":\"엔지니어링·설계\",\"counts\":{\"job\":233}},{\"id\":517,\"image\":\"https://static.wanted.co.kr/images/tags/6e0effd8.jpg\",\"tags\":[{\"id\":643,\"image\":\"https://static.wanted.co.kr/images/tags/312da9a6-43f8-11e6-90dd-0a30d591bfc5.jpg\",\"title\":\"인사담당\",\"counts\":{\"job\":134}},{\"id\":649,\"image\":\"https://static.wanted.co.kr/images/tags/a4958ae0-4fcd-11e6-852d-0a30d591bfc5.jpg\",\"title\":\"조직문화\",\"counts\":{\"job\":64}},{\"id\":644,\"image\":\"https://static.wanted.co.kr/images/tags/4f297912-43f8-11e6-90dd-0a30d591bfc5.jpg\",\"title\":\"리크루터\",\"counts\":{\"job\":63}},{\"id\":645,\"image\":\"https://static.wanted.co.kr/images/tags/74384016-637f-11e6-831d-0a30d591bfc5.png\",\"title\":\"평가·보상\",\"counts\":{\"job\":48}},{\"id\":648,\"image\":\"https://static.wanted.co.kr/images/tags/17088366-43f8-11e6-945a-0a30d591bfc5.jpg\",\"title\":\"HRD\",\"counts\":{\"job\":37}},{\"id\":650,\"image\":\"https://static.wanted.co.kr/images/tags/7f4f55d8.jpg\",\"title\":\"급여담당\",\"counts\":{\"job\":33}},{\"id\":647,\"image\":\"https://static.wanted.co.kr/images/tags/b88414f6.jpg\",\"title\":\"노무·노사\",\"counts\":{\"job\":20}},{\"id\":1041,\"image\":\"https://static.wanted.co.kr/images/tags/97c67da8.jpg\",\"title\":\"헤드헌터\",\"counts\":{\"job\":16}},{\"id\":1043,\"image\":\"https://static.wanted.co.kr/images/tags/9be27680.jpg\",\"title\":\"HRBP\",\"counts\":{\"job\":15}},{\"id\":642,\"image\":\"https://static.wanted.co.kr/images/tags/58a1d2e4-4283-11e6-a15c-029e8c03f357.jpg\",\"title\":\"HR 컨설턴트\",\"counts\":{\"job\":10}},{\"id\":1044,\"image\":\"https://static.wanted.co.kr/images/tags/ef352cc4.jpg\",\"title\":\"사내 강사\",\"counts\":{\"job\":4}},{\"id\":611,\"image\":\"https://static.wanted.co.kr/images/tags/b720a1d8.jpg\",\"title\":\"기술 교육\",\"counts\":{\"job\":3}},{\"id\":651,\"image\":\"https://static.wanted.co.kr/images/tags/36b3ba26-4283-11e6-a15c-029e8c03f357.jpg\",\"title\":\"E-러닝\",\"counts\":{\"job\":1}},{\"id\":608,\"image\":\"https://static.wanted.co.kr/images/tags/7c803674.jpg\",\"title\":\"교사\",\"counts\":{\"job\":0}},{\"id\":1042,\"image\":\"https://static.wanted.co.kr/images/tags/afbeded2.jpg\",\"title\":\"교수\",\"counts\":{\"job\":0}}],\"title\":\"HR\",\"counts\":{\"job\":183}},{\"id\":959,\"image\":\"https://static.wanted.co.kr/images/tags/2eb98862.jpg\",\"tags\":[{\"id\":892,\"image\":\"https://static.wanted.co.kr/images/tags/151d88cc-43f7-11e6-90dd-0a30d591bfc5.jpg\",\"title\":\"게임 기획자\",\"counts\":{\"job\":61}},{\"id\":961,\"image\":\"https://static.wanted.co.kr/images/tags/bf719a06-cce2-11e6-8d76-0a30d591bfc5.jpg\",\"title\":\"게임 클라이언트 개발자\",\"counts\":{\"job\":46}},{\"id\":881,\"image\":\"https://static.wanted.co.kr/images/tags/766c06ca-43e9-11e6-945a-0a30d591bfc5.jpg\",\"title\":\"게임 아티스트\",\"counts\":{\"job\":45}},{\"id\":880,\"image\":\"https://static.wanted.co.kr/images/tags/710b4bd2-43e9-11e6-945a-0a30d591bfc5.jpg\",\"title\":\"게임 그래픽 디자이너\",\"counts\":{\"job\":42}},{\"id\":878,\"image\":\"https://static.wanted.co.kr/images/tags/6e370016-43fa-11e6-945a-0a30d591bfc5.jpg\",\"title\":\"유니티 개발자\",\"counts\":{\"job\":38}},{\"id\":962,\"image\":\"https://static.wanted.co.kr/images/tags/c7812702-cce2-11e6-bef4-0a30d591bfc5.jpg\",\"title\":\"모바일 게임 개발자\",\"counts\":{\"job\":32}},{\"id\":960,\"image\":\"https://static.wanted.co.kr/images/tags/3e2a03e8-ccc4-11e6-95de-0a30d591bfc5.jpg\",\"title\":\"게임 서버 개발자\",\"counts\":{\"job\":22}},{\"id\":897,\"image\":\"https://static.wanted.co.kr/images/tags/c35f04bc-43fa-11e6-945a-0a30d591bfc5.jpg\",\"title\":\"언리얼 개발자\",\"counts\":{\"job\":16}},{\"id\":958,\"image\":\"https://static.wanted.co.kr/images/tags/02aa97b2-ccbd-11e6-84e1-0a30d591bfc5.jpg\",\"title\":\"게임운영자(GM)\",\"counts\":{\"job\":8}}],\"title\":\"게임 제작\",\"counts\":{\"job\":178}},{\"id\":508,\"image\":\"https://static.wanted.co.kr/images/tags/9f8f0364.jpg\",\"tags\":[{\"id\":534,\"image\":\"https://static.wanted.co.kr/images/tags/87875206-0253-11e7-a97f-0213e6175ee7.jpg\",\"title\":\"회계담당\",\"counts\":{\"job\":65}},{\"id\":1048,\"image\":\"https://static.wanted.co.kr/images/tags/3df6ce34.jpg\",\"title\":\"재무 담당자\",\"counts\":{\"job\":62}},{\"id\":920,\"image\":\"https://static.wanted.co.kr/images/tags/498615c6-4fcc-11e6-852d-0a30d591bfc5.jpg\",\"title\":\"IR\",\"counts\":{\"job\":28}},{\"id\":10056,\"image\":\"https://static.wanted.co.kr/images/tags/a8794f7c.jpg\",\"title\":\"투자·증권\",\"counts\":{\"job\":26}},{\"id\":538,\"image\":\"https://static.wanted.co.kr/images/tags/8b164b12-43f8-11e6-b947-0a30d591bfc5.jpg\",\"title\":\"재무 분석가\",\"counts\":{\"job\":21}},{\"id\":547,\"image\":\"https://static.wanted.co.kr/images/tags/f03871ee.jpg\",\"title\":\"내부통제 담당자\",\"counts\":{\"job\":11}},{\"id\":936,\"image\":\"https://static.wanted.co.kr/images/tags/29c5a7c0-03ad-11e7-8d2c-0213e6175ee7.jpg\",\"title\":\"자산운용가\",\"counts\":{\"job\":10}},{\"id\":882,\"image\":\"https://static.wanted.co.kr/images/tags/30d52d3a-43e4-11e6-90dd-0a30d591bfc5.jpg\",\"title\":\"애널리스트\",\"counts\":{\"job\":9}},{\"id\":938,\"image\":\"https://static.wanted.co.kr/images/tags/3c10b1a4-03ad-11e7-a97f-0213e6175ee7.jpg\",\"title\":\"준법감시인\",\"counts\":{\"job\":9}},{\"id\":934,\"image\":\"https://static.wanted.co.kr/images/tags/909e107c.jpg\",\"title\":\"금융공학자\",\"counts\":{\"job\":8}},{\"id\":1047,\"image\":\"https://static.wanted.co.kr/images/tags/eef21f82.jpg\",\"title\":\"세무사\",\"counts\":{\"job\":6}},{\"id\":542,\"image\":\"https://static.wanted.co.kr/images/tags/f03d9ae4-4282-11e6-adae-029e8c03f357.jpg\",\"title\":\"공인회계사\",\"counts\":{\"job\":4}},{\"id\":933,\"image\":\"https://static.wanted.co.kr/images/tags/6d34b3ca.jpg\",\"title\":\"트레이더\",\"counts\":{\"job\":4}},{\"id\":742,\"image\":\"https://static.wanted.co.kr/images/tags/e437590e.jpg\",\"title\":\"부동산 자산 관리자\",\"counts\":{\"job\":3}},{\"id\":1049,\"image\":\"https://static.wanted.co.kr/images/tags/8f3c656a.jpg\",\"title\":\"청구 담당자\",\"counts\":{\"job\":3}},{\"id\":682,\"image\":\"https://static.wanted.co.kr/images/tags/58383642.jpg\",\"title\":\"손해 사정관\",\"counts\":{\"job\":2}},{\"id\":743,\"image\":\"https://static.wanted.co.kr/images/tags/7977af20.jpg\",\"title\":\"부동산 중개사\",\"counts\":{\"job\":2}},{\"id\":935,\"image\":\"https://static.wanted.co.kr/images/tags/eba51e1c.jpg\",\"title\":\"자산관리사\",\"counts\":{\"job\":2}},{\"id\":683,\"image\":\"https://static.wanted.co.kr/images/tags/d1ad9884.jpg\",\"title\":\"계리사\",\"counts\":{\"job\":1}},{\"id\":937,\"image\":\"https://static.wanted.co.kr/images/tags/368e3dbe-03ad-11e7-8de0-0213e6175ee7.jpg\",\"title\":\"투자은행가\",\"counts\":{\"job\":1}},{\"id\":681,\"image\":\"https://static.wanted.co.kr/images/tags/fe711756.jpg\",\"title\":\"보험 에이전트\",\"counts\":{\"job\":0}},{\"id\":684,\"image\":\"https://static.wanted.co.kr/images/tags/6199a4be.jpg\",\"title\":\"언더라이터\",\"counts\":{\"job\":0}},{\"id\":745,\"image\":\"https://static.wanted.co.kr/images/tags/4732fcd6.jpg\",\"title\":\"감정평가사\",\"counts\":{\"job\":0}}],\"title\":\"금융\",\"counts\":{\"job\":133}},{\"id\":522,\"image\":\"https://static.wanted.co.kr/images/tags/539a0896.jpg\",\"tags\":[{\"id\":701,\"image\":\"https://static.wanted.co.kr/images/tags/aa5ec0e6-039f-11e7-a97f-0213e6175ee7.jpg\",\"title\":\"생산 관리자\",\"counts\":{\"job\":45}},{\"id\":704,\"image\":\"https://static.wanted.co.kr/images/tags/7b021e52.jpg\",\"title\":\"품질 관리자\",\"counts\":{\"job\":42}},{\"id\":699,\"image\":null,\"title\":\"자재관리·구매\",\"counts\":{\"job\":24}},{\"id\":700,\"image\":\"https://static.wanted.co.kr/images/tags/3ed70ee8-031b-11e7-b0b5-0219382c3fab.jpg\",\"title\":\"기계·설비·설계\",\"counts\":{\"job\":19}},{\"id\":702,\"image\":\"https://static.wanted.co.kr/images/tags/cc0e419e-039f-11e7-8502-0aba6235ef6f.jpg\",\"title\":\"생산직 종사자\",\"counts\":{\"job\":14}},{\"id\":10113,\"image\":\"https://static.wanted.co.kr/images/tags/08515c8a.jpg\",\"title\":\"섬유·의류·패션\",\"counts\":{\"job\":12}},{\"id\":698,\"image\":\"https://static.wanted.co.kr/images/tags/27a85ab4.jpg\",\"title\":\"제조 엔지니어\",\"counts\":{\"job\":11}},{\"id\":703,\"image\":\"https://static.wanted.co.kr/images/tags/b97afe64-039f-11e7-bedb-0213e6175ee7.jpg\",\"title\":\"공정 관리자\",\"counts\":{\"job\":10}},{\"id\":10114,\"image\":\"https://static.wanted.co.kr/images/tags/5a0d0904.jpg\",\"title\":\"반도체·디스플레이\",\"counts\":{\"job\":10}},{\"id\":695,\"image\":\"https://static.wanted.co.kr/images/tags/fe7fc226.jpg\",\"title\":\"조립 기술자\",\"counts\":{\"job\":8}},{\"id\":696,\"image\":\"https://static.wanted.co.kr/images/tags/3542960a-031a-11e7-a81b-0aba6235ef6f.jpg\",\"title\":\"화학자\",\"counts\":{\"job\":7}},{\"id\":706,\"image\":\"https://static.wanted.co.kr/images/tags/40e73766.jpg\",\"title\":\"제조 테스트 엔지니어\",\"counts\":{\"job\":7}},{\"id\":697,\"image\":\"https://static.wanted.co.kr/images/tags/cad900f0-43f8-11e6-aa6b-0a30d591bfc5.jpg\",\"title\":\"기계제작 기술자\",\"counts\":{\"job\":6}},{\"id\":705,\"image\":\"https://static.wanted.co.kr/images/tags/57bf5d4e.jpg\",\"title\":\"안전 관리자\",\"counts\":{\"job\":4}}],\"title\":\"제조·생산\",\"counts\":{\"job\":114}},{\"id\":10101,\"image\":\"https://static.wanted.co.kr/images/tags/9755eed1.jpg\",\"tags\":[{\"id\":10103,\"image\":\"https://static.wanted.co.kr/images/tags/72f149b2.jpg\",\"title\":\"교재·교육기획\",\"counts\":{\"job\":67}},{\"id\":10102,\"image\":\"https://static.wanted.co.kr/images/tags/6459b56e.jpg\",\"title\":\"전문강사\",\"counts\":{\"job\":32}},{\"id\":10104,\"image\":\"https://static.wanted.co.kr/images/tags/29385c79.jpg\",\"title\":\"학원강사\",\"counts\":{\"job\":28}},{\"id\":10106,\"image\":\"https://static.wanted.co.kr/images/tags/849b212b.jpg\",\"title\":\"외국어교육\",\"counts\":{\"job\":27}},{\"id\":10109,\"image\":\"https://static.wanted.co.kr/images/tags/e5e34efd.jpg\",\"title\":\"자격증·기술전문교육\",\"counts\":{\"job\":24}},{\"id\":10105,\"image\":\"https://static.wanted.co.kr/images/tags/f7a1dac8.jpg\",\"title\":\"교직원\",\"counts\":{\"job\":4}},{\"id\":10107,\"image\":\"https://static.wanted.co.kr/images/tags/55e4ec71.jpg\",\"title\":\"유치원·보육교사\",\"counts\":{\"job\":3}},{\"id\":10108,\"image\":\"https://static.wanted.co.kr/images/tags/24f5b854.jpg\",\"title\":\"초·중·고 교사\",\"counts\":{\"job\":2}}],\"title\":\"교육\",\"counts\":{\"job\":95}},{\"id\":515,\"image\":\"https://static.wanted.co.kr/images/tags/7952b34e.jpg\",\"tags\":[{\"id\":739,\"image\":\"https://static.wanted.co.kr/images/tags/83c6be50.jpg\",\"title\":\"연구원\",\"counts\":{\"job\":68}},{\"id\":735,\"image\":\"https://static.wanted.co.kr/images/tags/c4e62e6a.jpg\",\"title\":\"임상시험 연구원\",\"counts\":{\"job\":27}},{\"id\":740,\"image\":\"https://static.wanted.co.kr/images/tags/038d30da.jpg\",\"title\":\"생명공학 연구원\",\"counts\":{\"job\":27}},{\"id\":737,\"image\":\"https://static.wanted.co.kr/images/tags/31f41a02.jpg\",\"title\":\"미생물학자\",\"counts\":{\"job\":9}},{\"id\":627,\"image\":\"https://static.wanted.co.kr/images/tags/376cff36.jpg\",\"title\":\"간호사\",\"counts\":{\"job\":7}},{\"id\":633,\"image\":\"https://static.wanted.co.kr/images/tags/a1644634.jpg\",\"title\":\"의사\",\"counts\":{\"job\":4}},{\"id\":634,\"image\":\"https://static.wanted.co.kr/images/tags/58260bc0.jpg\",\"title\":\"수의사\",\"counts\":{\"job\":4}},{\"id\":733,\"image\":\"https://static.wanted.co.kr/images/tags/905cf828-03a1-11e7-bd2d-0aba6235ef6f.jpg\",\"title\":\"약사\",\"counts\":{\"job\":4}},{\"id\":736,\"image\":\"https://static.wanted.co.kr/images/tags/aaa86cac.jpg\",\"title\":\"임상시험 간호사\",\"counts\":{\"job\":4}},{\"id\":738,\"image\":null,\"title\":\"유전공학자\",\"counts\":{\"job\":4}},{\"id\":1040,\"image\":\"https://static.wanted.co.kr/images/tags/b6f4c4c4.jpg\",\"title\":\"한의사\",\"counts\":{\"job\":3}},{\"id\":10054,\"image\":\"https://static.wanted.co.kr/images/tags/499ba946.jpg\",\"title\":\"방사선사\",\"counts\":{\"job\":3}},{\"id\":635,\"image\":\"https://static.wanted.co.kr/images/tags/5d7abe3e.jpg\",\"title\":\"간호 조무사\",\"counts\":{\"job\":2}},{\"id\":10147,\"image\":\"https://static.wanted.co.kr/images/tags/921854c4.jpg\",\"title\":\"임상심리사\",\"counts\":{\"job\":2}},{\"id\":626,\"image\":\"https://static.wanted.co.kr/images/tags/aba9c04c.jpg\",\"title\":\"임상병리사\",\"counts\":{\"job\":1}},{\"id\":630,\"image\":\"https://static.wanted.co.kr/images/tags/55b9acae.jpg\",\"title\":\"물리 치료사\",\"counts\":{\"job\":1}},{\"id\":632,\"image\":\"https://static.wanted.co.kr/images/tags/4b816338.jpg\",\"title\":\"수의 테크니션\",\"counts\":{\"job\":1}},{\"id\":731,\"image\":\"https://static.wanted.co.kr/images/tags/7f83955c.jpg\",\"title\":\"약학 분석 화학자\",\"counts\":{\"job\":1}},{\"id\":732,\"image\":\"https://static.wanted.co.kr/images/tags/6e1966ca.jpg\",\"title\":\"연구실 기사\",\"counts\":{\"job\":1}},{\"id\":10134,\"image\":\"https://static.wanted.co.kr/images/tags/c8055d89.jpg\",\"title\":\"병원 코디네이터\",\"counts\":{\"job\":1}},{\"id\":622,\"image\":\"https://static.wanted.co.kr/images/tags/58f2d248.jpg\",\"title\":\"치과 위생사\",\"counts\":{\"job\":0}},{\"id\":623,\"image\":\"https://static.wanted.co.kr/images/tags/36eac8d6.jpg\",\"title\":\"증례 관리자\",\"counts\":{\"job\":0}},{\"id\":624,\"image\":\"https://static.wanted.co.kr/images/tags/46095954.jpg\",\"title\":\"간병인\",\"counts\":{\"job\":0}},{\"id\":625,\"image\":\"https://static.wanted.co.kr/images/tags/2c06bb78.jpg\",\"title\":\"조무사\",\"counts\":{\"job\":0}},{\"id\":629,\"image\":\"https://static.wanted.co.kr/images/tags/f3e231b4.jpg\",\"title\":\"작업 치료사\",\"counts\":{\"job\":0}},{\"id\":631,\"image\":\"https://static.wanted.co.kr/images/tags/acddd3c6.jpg\",\"title\":\"호흡장애 치료사\",\"counts\":{\"job\":0}},{\"id\":636,\"image\":\"https://static.wanted.co.kr/images/tags/38c892dc.jpg\",\"title\":\"치과의사\",\"counts\":{\"job\":0}},{\"id\":637,\"image\":\"https://static.wanted.co.kr/images/tags/4ca10988.jpg\",\"title\":\"검안사\",\"counts\":{\"job\":0}},{\"id\":734,\"image\":\"https://static.wanted.co.kr/images/tags/6c538f64.jpg\",\"title\":\"약사 보조원\",\"counts\":{\"job\":0}},{\"id\":10135,\"image\":\"https://static.wanted.co.kr/images/tags/6dc37980.jpg\",\"title\":\"의무기록사\",\"counts\":{\"job\":0}}],\"title\":\"의료·제약·바이오\",\"counts\":{\"job\":92}},{\"id\":532,\"image\":\"https://static.wanted.co.kr/images/tags/ac0cf75e.jpg\",\"tags\":[{\"id\":783,\"image\":\"https://static.wanted.co.kr/images/tags/2a28a288-4fc8-11e6-8a12-0a30d591bfc5.jpg\",\"title\":\"물류담당\",\"counts\":{\"job\":51}},{\"id\":10148,\"image\":\"https://static.wanted.co.kr/images/tags/0ed51b6e.jpg\",\"title\":\"입·출고 관리자\",\"counts\":{\"job\":33}},{\"id\":782,\"image\":\"https://static.wanted.co.kr/images/tags/678d348c-03a9-11e7-b0b5-0219382c3fab.jpg\",\"title\":\"물류 분석가\",\"counts\":{\"job\":16}},{\"id\":10149,\"image\":\"https://static.wanted.co.kr/images/tags/c9cdfa6d.jpg\",\"title\":\"유통 관리자\",\"counts\":{\"job\":16}},{\"id\":10151,\"image\":\"https://static.wanted.co.kr/images/tags/a965098b.jpg\",\"title\":\"수출입사무\",\"counts\":{\"job\":16}},{\"id\":10053,\"image\":\"https://static.wanted.co.kr/images/tags/0de100ea.jpg\",\"title\":\"무역사무\",\"counts\":{\"job\":13}},{\"id\":777,\"image\":\"https://static.wanted.co.kr/images/tags/0e89ba22-ccbd-11e6-95de-0a30d591bfc5.jpg\",\"title\":\"배송담당\",\"counts\":{\"job\":6}},{\"id\":786,\"image\":\"https://static.wanted.co.kr/images/tags/f3470398.jpg\",\"title\":\"운송 관리자\",\"counts\":{\"job\":6}},{\"id\":789,\"image\":\"https://static.wanted.co.kr/images/tags/cbc4e8d8.jpg\",\"title\":\"해운·해양 운송\",\"counts\":{\"job\":3}},{\"id\":10140,\"image\":\"https://static.wanted.co.kr/images/tags/361a73d2.jpg\",\"title\":\"원산지관리사\",\"counts\":{\"job\":3}},{\"id\":10150,\"image\":\"https://static.wanted.co.kr/images/tags/f5d59c36.jpg\",\"title\":\"바이어관리·상담·개발\",\"counts\":{\"job\":3}},{\"id\":785,\"image\":\"https://static.wanted.co.kr/images/tags/03b6efa0.jpg\",\"title\":\"선적,발송 사무원\",\"counts\":{\"job\":2}},{\"id\":787,\"image\":\"https://static.wanted.co.kr/images/tags/0eefc224.jpg\",\"title\":\"웨어하우스\",\"counts\":{\"job\":2}},{\"id\":788,\"image\":\"https://static.wanted.co.kr/images/tags/90409596.jpg\",\"title\":\"항공 운송\",\"counts\":{\"job\":1}},{\"id\":10139,\"image\":\"https://static.wanted.co.kr/images/tags/d16c1eb3.jpg\",\"title\":\"관세사\",\"counts\":{\"job\":1}},{\"id\":778,\"image\":\"https://static.wanted.co.kr/images/tags/e0fa996e.jpg\",\"title\":\"디젤 정비공\",\"counts\":{\"job\":0}},{\"id\":779,\"image\":null,\"title\":\"운행 관리원\",\"counts\":{\"job\":0}},{\"id\":780,\"image\":\"https://static.wanted.co.kr/images/tags/4380b0d8.jpg\",\"title\":\"지게차 운전사\",\"counts\":{\"job\":0}},{\"id\":781,\"image\":\"https://static.wanted.co.kr/images/tags/77b5ced2.jpg\",\"title\":\"운전기사\",\"counts\":{\"job\":0}},{\"id\":784,\"image\":\"https://static.wanted.co.kr/images/tags/993c311e.jpg\",\"title\":\"화물트럭 운전기사\",\"counts\":{\"job\":0}},{\"id\":790,\"image\":\"https://static.wanted.co.kr/images/tags/ab782ac6.jpg\",\"title\":\"보세사\",\"counts\":{\"job\":0}},{\"id\":10236,\"image\":\"https://static.wanted.co.kr/images/tags/051ca562-7d89-11ec-a287-acde48001122.jpg\",\"title\":\"항해사\",\"counts\":{\"job\":0}},{\"id\":10237,\"image\":\"https://static.wanted.co.kr/images/tags/4d914614-7ced-11ec-8b72-acde48001122.jpg\",\"title\":\"기관사\",\"counts\":{\"job\":0}}],\"title\":\"물류·무역\",\"counts\":{\"job\":70}},{\"id\":521,\"image\":\"https://static.wanted.co.kr/images/tags/601ae856.jpg\",\"tags\":[{\"id\":1002,\"image\":\"https://static.wanted.co.kr/images/tags/68a88b0a.jpg\",\"title\":\"법무담당\",\"counts\":{\"job\":25}},{\"id\":691,\"image\":\"https://static.wanted.co.kr/images/tags/c6dc9202-0318-11e7-8ad5-0219382c3fab.jpg\",\"title\":\"변호사\",\"counts\":{\"job\":21}},{\"id\":692,\"image\":\"https://static.wanted.co.kr/images/tags/d840deda-0319-11e7-a894-0aba6235ef6f.jpg\",\"title\":\"법무 자문위원\",\"counts\":{\"job\":7}},{\"id\":10136,\"image\":\"https://static.wanted.co.kr/images/tags/8d32b81a.jpg\",\"title\":\"변리사\",\"counts\":{\"job\":6}},{\"id\":10137,\"image\":\"https://static.wanted.co.kr/images/tags/437b3d12.jpg\",\"title\":\"특허담당\",\"counts\":{\"job\":6}},{\"id\":694,\"image\":\"https://static.wanted.co.kr/images/tags/86a7f94c.jpg\",\"title\":\"법무사\",\"counts\":{\"job\":1}},{\"id\":686,\"image\":\"https://static.wanted.co.kr/images/tags/400a9d9e.jpg\",\"title\":\"수사관\",\"counts\":{\"job\":0}},{\"id\":687,\"image\":\"https://static.wanted.co.kr/images/tags/dcd26cee.jpg\",\"title\":\"보호 관찰관\",\"counts\":{\"job\":0}},{\"id\":688,\"image\":\"https://static.wanted.co.kr/images/tags/4c372252.jpg\",\"title\":\"경찰관\",\"counts\":{\"job\":0}},{\"id\":689,\"image\":\"https://static.wanted.co.kr/images/tags/b442b838.jpg\",\"title\":\"보안요원\",\"counts\":{\"job\":0}},{\"id\":690,\"image\":\"https://static.wanted.co.kr/images/tags/39ba58f6.jpg\",\"title\":\"경호원\",\"counts\":{\"job\":0}},{\"id\":693,\"image\":\"https://static.wanted.co.kr/images/tags/7f32f9e6.jpg\",\"title\":\"법무관\",\"counts\":{\"job\":0}}],\"title\":\"법률·법집행기관\",\"counts\":{\"job\":39}},{\"id\":10057,\"image\":\"https://static.wanted.co.kr/images/tags/d4536952.jpg\",\"tags\":[{\"id\":10153,\"image\":\"https://static.wanted.co.kr/images/tags/17a53bd1.jpg\",\"title\":\"식품가공·개발\",\"counts\":{\"job\":15}},{\"id\":761,\"image\":\"https://static.wanted.co.kr/images/tags/6885cf40-637f-11e6-831d-0a30d591bfc5.jpg\",\"title\":\"식품 MD\",\"counts\":{\"job\":12}},{\"id\":10058,\"image\":\"https://static.wanted.co.kr/images/tags/22ba7996.jpg\",\"title\":\"메뉴개발\",\"counts\":{\"job\":8}},{\"id\":749,\"image\":\"https://static.wanted.co.kr/images/tags/a1b328cc.jpg\",\"title\":\"외식업 종사자\",\"counts\":{\"job\":7}},{\"id\":750,\"image\":\"https://static.wanted.co.kr/images/tags/e7dd1766.jpg\",\"title\":\"레스토랑 관리자\",\"counts\":{\"job\":6}},{\"id\":747,\"image\":\"https://static.wanted.co.kr/images/tags/36e06782.jpg\",\"title\":\"바텐더\",\"counts\":{\"job\":3}},{\"id\":748,\"image\":\"https://static.wanted.co.kr/images/tags/7f9b4a94.jpg\",\"title\":\"요리사\",\"counts\":{\"job\":3}},{\"id\":10152,\"image\":\"https://static.wanted.co.kr/images/tags/427e3e4e.jpg\",\"title\":\"소믈리에\",\"counts\":{\"job\":2}},{\"id\":628,\"image\":\"https://static.wanted.co.kr/images/tags/b052888c.jpg\",\"title\":\"영양사\",\"counts\":{\"job\":1}},{\"id\":746,\"image\":\"https://static.wanted.co.kr/images/tags/dbf2bd76.jpg\",\"title\":\"제과·제빵사\",\"counts\":{\"job\":1}},{\"id\":10141,\"image\":\"https://static.wanted.co.kr/images/tags/a2f54b2e.jpg\",\"title\":\"푸드스타일리스트\",\"counts\":{\"job\":1}},{\"id\":10154,\"image\":\"https://static.wanted.co.kr/images/tags/0b479ede.jpg\",\"title\":\"바리스타\",\"counts\":{\"job\":1}}],\"title\":\"식·음료\",\"counts\":{\"job\":31}},{\"id\":509,\"image\":\"https://static.wanted.co.kr/images/tags/974967d0.jpg\",\"tags\":[{\"id\":10143,\"image\":\"https://static.wanted.co.kr/images/tags/52b43ffc.jpg\",\"title\":\"건축시공·감리\",\"counts\":{\"job\":14}},{\"id\":572,\"image\":\"https://static.wanted.co.kr/images/tags/d43af124.jpg\",\"title\":\"현장 소장\",\"counts\":{\"job\":11}},{\"id\":10142,\"image\":\"https://static.wanted.co'"
     },
     "execution_count": 89,
     "metadata": {},
     "output_type": "execute_result"
    }
   ],
   "source": [
    "page_source[200000:220000]"
   ],
   "metadata": {
    "collapsed": false,
    "ExecuteTime": {
     "end_time": "2023-12-15T09:43:20.920961Z",
     "start_time": "2023-12-15T09:43:20.906682Z"
    }
   },
   "id": "34e4324d6c474edc"
  },
  {
   "cell_type": "code",
   "execution_count": 85,
   "outputs": [],
   "source": [
    "job_tail = soup.find_all(\"section\", class_=\"JobWorkPlace_className__ra6rp\")"
   ],
   "metadata": {
    "collapsed": false,
    "ExecuteTime": {
     "end_time": "2023-12-15T09:42:53.174110Z",
     "start_time": "2023-12-15T09:42:53.160178Z"
    }
   },
   "id": "de61912290b9b4c1"
  },
  {
   "cell_type": "code",
   "execution_count": 86,
   "outputs": [
    {
     "data": {
      "text/plain": "[]"
     },
     "execution_count": 86,
     "metadata": {},
     "output_type": "execute_result"
    }
   ],
   "source": [
    "job_tail"
   ],
   "metadata": {
    "collapsed": false,
    "ExecuteTime": {
     "end_time": "2023-12-15T09:42:53.536461Z",
     "start_time": "2023-12-15T09:42:53.522498Z"
    }
   },
   "id": "8e56523004d91208"
  },
  {
   "cell_type": "code",
   "execution_count": 74,
   "outputs": [
    {
     "ename": "AttributeError",
     "evalue": "'NoneType' object has no attribute 'find_all'",
     "output_type": "error",
     "traceback": [
      "\u001B[0;31m---------------------------------------------------------------------------\u001B[0m",
      "\u001B[0;31mAttributeError\u001B[0m                            Traceback (most recent call last)",
      "Cell \u001B[0;32mIn[74], line 1\u001B[0m\n\u001B[0;32m----> 1\u001B[0m \u001B[43mjob_tail\u001B[49m\u001B[38;5;241;43m.\u001B[39;49m\u001B[43mfind_all\u001B[49m(\u001B[38;5;124m\"\u001B[39m\u001B[38;5;124mdiv\u001B[39m\u001B[38;5;124m\"\u001B[39m)\n",
      "\u001B[0;31mAttributeError\u001B[0m: 'NoneType' object has no attribute 'find_all'"
     ]
    }
   ],
   "source": [
    "job_tail.find_all(\"div\")"
   ],
   "metadata": {
    "collapsed": false,
    "ExecuteTime": {
     "end_time": "2023-12-15T09:41:37.871981Z",
     "start_time": "2023-12-15T09:41:37.865301Z"
    }
   },
   "id": "cd02d291cfa4d804"
  },
  {
   "cell_type": "code",
   "execution_count": 67,
   "outputs": [],
   "source": [],
   "metadata": {
    "collapsed": false,
    "ExecuteTime": {
     "end_time": "2023-12-15T09:39:33.190611Z",
     "start_time": "2023-12-15T09:39:33.171460Z"
    }
   },
   "id": "63e61f0291f366b2"
  },
  {
   "cell_type": "code",
   "execution_count": 68,
   "outputs": [
    {
     "data": {
      "text/plain": "'/company/8040'"
     },
     "execution_count": 68,
     "metadata": {},
     "output_type": "execute_result"
    }
   ],
   "source": [
    "company_id"
   ],
   "metadata": {
    "collapsed": false,
    "ExecuteTime": {
     "end_time": "2023-12-15T09:39:34.627763Z",
     "start_time": "2023-12-15T09:39:34.608090Z"
    }
   },
   "id": "95dcb4d114823542"
  },
  {
   "cell_type": "code",
   "execution_count": 57,
   "outputs": [
    {
     "data": {
      "text/plain": "[<div class=\"JobDescription_JobDescription_skill_wrapper__9EdFE\"><div class=\"SkillItem_SkillItem__E2WtM\">Android</div><div class=\"SkillItem_SkillItem__E2WtM\">Firebase</div><div class=\"SkillItem_SkillItem__E2WtM\">iOS</div><div class=\"SkillItem_SkillItem__E2WtM\">React</div><div class=\"SkillItem_SkillItem__E2WtM\">Java</div><div class=\"SkillItem_SkillItem__E2WtM\">Kotlin</div><div class=\"SkillItem_SkillItem__E2WtM\">Swift</div><div class=\"SkillItem_SkillItem__E2WtM\">TypeScript</div><div class=\"SkillItem_SkillItem__E2WtM\">AWS</div><div class=\"SkillItem_SkillItem__E2WtM\">NodeJS</div><div class=\"SkillItem_SkillItem__E2WtM\">iOS 개발</div><div class=\"SkillItem_SkillItem__E2WtM\">React Native</div><div class=\"SkillItem_SkillItem__E2WtM\">Flutter</div></div>]"
     },
     "execution_count": 57,
     "metadata": {},
     "output_type": "execute_result"
    }
   ],
   "source": [
    "soup.find_all(\"div\", class_=\"JobDescription_JobDescription_skill_wrapper__9EdFE\")"
   ],
   "metadata": {
    "collapsed": false,
    "ExecuteTime": {
     "end_time": "2023-12-15T09:36:16.235976Z",
     "start_time": "2023-12-15T09:36:16.205288Z"
    }
   },
   "id": "fb99139259422c60"
  },
  {
   "cell_type": "code",
   "execution_count": 18,
   "outputs": [
    {
     "data": {
      "text/plain": "True"
     },
     "execution_count": 18,
     "metadata": {},
     "output_type": "execute_result"
    }
   ],
   "source": [
    "'데브옵스 엔지니어' in page_source"
   ],
   "metadata": {
    "collapsed": false,
    "ExecuteTime": {
     "end_time": "2023-12-15T09:26:05.895018Z",
     "start_time": "2023-12-15T09:26:05.883559Z"
    }
   },
   "id": "7e2b9f82f4264f19"
  },
  {
   "cell_type": "code",
   "execution_count": null,
   "outputs": [],
   "source": [],
   "metadata": {
    "collapsed": false
   },
   "id": "6e6c4f0783e857a6"
  },
  {
   "cell_type": "code",
   "execution_count": 53,
   "outputs": [
    {
     "data": {
      "text/plain": "89561"
     },
     "execution_count": 53,
     "metadata": {},
     "output_type": "execute_result"
    }
   ],
   "source": [
    "page_source.find('Firebase')"
   ],
   "metadata": {
    "collapsed": false,
    "ExecuteTime": {
     "end_time": "2023-12-15T09:32:59.704713Z",
     "start_time": "2023-12-15T09:32:59.685158Z"
    }
   },
   "id": "8f17e107d6d48eb4"
  },
  {
   "cell_type": "code",
   "execution_count": 54,
   "outputs": [
    {
     "data": {
      "text/plain": "'하고 있으며 이에 채용공고를 올리게 되었습니다.<br><br>• 2023년 10월에는 40대를 위한 신규 서비스인 \\'더멤버스\\'를 출시하였고 영업을 시작하였습니다.<br><br>* 탁월한 인재에게 최고의 보상과 성취감을 제공하는 트리플콤마에서 재능을 펼쳐보세요! *</span></p><h3>주요업무</h3><p><span>• AWS 인프라 운영 및 비용/성능 최적화 (예: EC2, RDS, .. )<br>• AWS 보안 아키텍처 설계, 구축, 운영 및 자동화 개발<br>• 클라우드 표준 보안 요구 사항 개발<br>• 인프라/어플리케이션 모니터링 시스템 구축 및 운영<br>• Automated CI/CD 시스템 구축 및 운영<br>• 시스템 / 데이터 백업 정책 설정 및 운영</span></p><h3>자격요건</h3><p><span>• AWS 클라우드 환경에서 3년 이상의 서비스 구축 및 운영 경험<br>• VPC flow, GuardDuty, CloudTrail의 로그 분석 경험<br>• 클라우드 환경에서의 보안 서비스 (Security Group, Network ACL, WAF) 정책 설정 경험<br>• ISMS / ISMS-P 인증 심사 대응을 위한 기술 지원 업무 경험이 있는 분</span></p><h3>우대사항</h3><p><span>• ISMS-P 인증 심사원 자격 보유자<br>• AWS 클라우드 환경에서의 보안을 경험해 보신 분<br>• IaC(Infrastructure as Code)에 대한 이해가 있으신 분<br>• SIEM 시스템을 구축 운영해 보신 분<br>• Prowler 보안툴 사용 경험이 있으신 분</span></p><h3>혜택 및 복지</h3><p><span>1. 합당한 보상<br><br>• 뛰어난 인재에게 합당한 보상을 지급합니다. <br>• 열심히 하는만큼 더 받을 수 있도록 성과에 따른 인센티브도 존재합니다.<br><br>2. 근무 여건의 강점<br><br>• 유연근무제를 시행하고 있습니다.<br>- 주 1회 재택근무<br>- 조직 컨디션에 따라 유연근무제 확대를 지속 검토합니다.<br>• 2호선 삼성역 2분거리 초역세권에 사무실이 있습니다.<br>• 맥주를 무제한으로 드실 수 있고 고급 커피머신이 준비되어 있습니다.<br>• 모든 직원이 서로 ~님으로 호칭하고 존댓말을 사용하는 수평적인 문화입니다.<br>• 매월 20만원씩 충전되는 식대 법인카드를 제공합니다<br><br>3. 그 밖의 강점들<br><br>• 반려동물과 함께 출근 가능합니다.<br>• 자유롭게 연차/반차를 사용합니다.<br>• 일이 없어도 억지로 야근을 하거나, 눈치 보면서 퇴근을 하지 않습니다.<br>• 경조사비/경조휴가를 지원합니다.<br>• 식대를 제공하고 간식을 무제한 제공합니다.<br>• 4대보험을 지원합니다.</span></p><h3>기술스택 ・ 툴</h3><p><div class=\"JobDescription_JobDescription_skill_wrapper__9EdFE\"><div class=\"SkillItem_SkillItem__E2WtM\">Android</div><div class=\"SkillItem_SkillItem__E2WtM\">Firebase</div><div class=\"SkillItem_SkillItem__E2WtM\">iOS</div><div class=\"SkillItem_SkillItem__E2WtM\">React</div><div class=\"SkillItem_SkillItem__E2WtM\">Java</div><div class=\"SkillItem_SkillItem__E2WtM\">Kotlin</div><div class=\"SkillItem_SkillItem__E2WtM\">Swift</div><div class=\"SkillItem_SkillItem__E2WtM\">TypeScript</div><div class=\"SkillItem_SkillItem__E2WtM\">AWS</div><div class=\"SkillItem_SkillItem__E2WtM\">NodeJS</div><div class=\"Ski'"
     },
     "execution_count": 54,
     "metadata": {},
     "output_type": "execute_result"
    }
   ],
   "source": [
    "page_source[88000:90000]"
   ],
   "metadata": {
    "collapsed": false,
    "ExecuteTime": {
     "end_time": "2023-12-15T09:33:17.231418Z",
     "start_time": "2023-12-15T09:33:17.219378Z"
    }
   },
   "id": "189966c6eeb48ae2"
  },
  {
   "cell_type": "code",
   "execution_count": 36,
   "outputs": [],
   "source": [
    "data = json.loads(soup.find(\"script\", id=\"__NEXT_DATA__\").text)"
   ],
   "metadata": {
    "collapsed": false,
    "ExecuteTime": {
     "end_time": "2023-12-15T09:30:10.100084Z",
     "start_time": "2023-12-15T09:30:10.087923Z"
    }
   },
   "id": "5d95c0d4627e25b1"
  },
  {
   "cell_type": "code",
   "execution_count": 46,
   "outputs": [
    {
     "data": {
      "text/plain": "{'head': {'195530': {'status': 'active',\n   'title_thumb_img': 'https://static.wanted.co.kr/images/company/8040/5wemaaq53ybzu6dt__400_400.jpg',\n   'is_newbie': False,\n   'currency': 'KRW',\n   'logo_thumb_img': 'https://static.wanted.co.kr/images/wdes/0_5.6120bdd5.jpg',\n   'logo_img': 'https://static.wanted.co.kr/images/wdes/0_4.6120bdd5.jpg',\n   'address': {'country': '한국', 'id': 6357, 'location': '서울'},\n   'confirm_time': '2023-12-13T09:43:38',\n   'id': 195530,\n   'category': 'IT',\n   'main_tasks': '• AWS 인프라 운영 및 비용/성능 최적화 (예: EC2, RDS, .. )\\n• AWS 보안 아키텍처 설계, 구축, 운영 및 자동화 개발\\n• 클라우드 표준 보안 요구 사항 개발\\n• 인프라/어플리케이션 모니터링 시스템 구축 및 운영\\n• Automated CI/CD 시스템 구축 및 운영\\n• 시스템 / 데이터 백업 정책 설정 및 운영',\n   'requirements': '• AWS 클라우드 환경에서 3년 이상의 서비스 구축 및 운영 경험\\n• VPC flow, GuardDuty, CloudTrail의 로그 분석 경험\\n• 클라우드 환경에서의 보안 서비스 (Security Group, Network ACL, WAF) 정책 설정 경험\\n• ISMS / ISMS-P 인증 심사 대응을 위한 기술 지원 업무 경험이 있는 분',\n   'job_country': 'KR',\n   'industry': 'IT, 컨텐츠',\n   'company_id': 8040,\n   'title_img': 'https://static.wanted.co.kr/images/company/8040/5wemaaq53ybzu6dt__1080_790.jpg',\n   'due_time': None,\n   'location': '서울특별시 강남구 테헤란로 518',\n   'is_expert': True,\n   'sub_categories': ['Security Engineer',\n    '보안 엔지니어',\n    'DevOps / System Admin',\n    'DevOps / 시스템 관리자'],\n   'position': '데브옵스 엔지니어 (보안)',\n   'reward': 1000000,\n   'jd': \"• 트리플콤마는 국내 최초 서류인증 기반 프리미엄 매칭 서비스인 ‘골드스푼’ 을 개발한 기업입니다.\\n\\n• 2018년 당시, 불신과 의심으로 가득차있던 소개팅 앱 시장에서 골드스푼은 국내 최초로 '본인명의 서류 기반' 매칭 서비스를 개발하여 '믿을 수 있는 소개팅 서비스'라는 개념을 만들어냈으며, 전문직, 자산가, 고소득 직장인 등 자격을 갖춘 남성들에게만 가입을 허용해 '신뢰' '탁월함' '안전' 을 상징하는 서비스가 되었습니다. \\n\\n• 2019년에 기술보증기금으로부터 벤처기업으로 선정되었으며 공중보건 의사협회, 치과의사협회, 한의사협회와 단독제휴를 맺은 유일한 소개팅 서비스입니다.\\n\\n• 현재 해당 분야에서 가장 빠르게 성장하고 있는 골드스푼 서비스를 발전시키기 위해 지속적으로 우수한 인재를 충원하고 있으며 이에 채용공고를 올리게 되었습니다.\\n\\n• 2023년 10월에는 40대를 위한 신규 서비스인 '더멤버스'를 출시하였고 영업을 시작하였습니다.\\n\\n* 탁월한 인재에게 최고의 보상과 성취감을 제공하는 트리플콤마에서 재능을 펼쳐보세요! *\\n\\n\\n주요업무\\n• AWS 인프라 운영 및 비용/성능 최적화 (예: EC2, RDS, .. )\\n• AWS 보안 아키텍처 설계, 구축, 운영 및 자동화 개발\\n• 클라우드 표준 보안 요구 사항 개발\\n• 인프라/어플리케이션 모니터링 시스템 구축 및 운영\\n• Automated CI/CD 시스템 구축 및 운영\\n• 시스템 / 데이터 백업 정책 설정 및 운영\\n\\n자격요건\\n• AWS 클라우드 환경에서 3년 이상의 서비스 구축 및 운영 경험\\n• VPC flow, GuardDuty, CloudTrail의 로그 분석 경험\\n• 클라우드 환경에서의 보안 서비스 (Security Group, Network ACL, WAF) 정책 설정 경험\\n• ISMS / ISMS-P 인증 심사 대응을 위한 기술 지원 업무 경험이 있는 분\\n\\n우대사항\\n• ISMS-P 인증 심사원 자격 보유자\\n• AWS 클라우드 환경에서의 보안을 경험해 보신 분\\n• IaC(Infrastructure as Code)에 대한 이해가 있으신 분\\n• SIEM 시스템을 구축 운영해 보신 분\\n• Prowler 보안툴 사용 경험이 있으신 분\\n\\n혜택 및 복지\\n1. 합당한 보상\\n\\n• 뛰어난 인재에게 합당한 보상을 지급합니다. \\n• 열심히 하는만큼 더 받을 수 있도록 성과에 따른 인센티브도 존재합니다.\\n\\n2. 근무 여건의 강점\\n\\n• 유연근무제를 시행하고 있습니다.\\n- 주 1회 재택근무\\n- 조직 컨디션에 따라 유연근무제 확대를 지속 검토합니다.\\n• 2호선 삼성역 2분거리 초역세권에 사무실이 있습니다.\\n• 맥주를 무제한으로 드실 수 있고 고급 커피머신이 준비되어 있습니다.\\n• 모든 직원이 서로 ~님으로 호칭하고 존댓말을 사용하는 수평적인 문화입니다.\\n• 매월 20만원씩 충전되는 식대 법인카드를 제공합니다\\n\\n3. 그 밖의 강점들\\n\\n• 반려동물과 함께 출근 가능합니다.\\n• 자유롭게 연차/반차를 사용합니다.\\n• 일이 없어도 억지로 야근을 하거나, 눈치 보면서 퇴근을 하지 않습니다.\\n• 경조사비/경조휴가를 지원합니다.\\n• 식대를 제공하고 간식을 무제한 제공합니다.\\n• 4대보험을 지원합니다.\\n\\n\",\n   'company_name': '트리플콤마(골드스푼)',\n   'lang': 'ko'}}}"
     },
     "execution_count": 46,
     "metadata": {},
     "output_type": "execute_result"
    }
   ],
   "source": [
    "data['props']['pageProps']"
   ],
   "metadata": {
    "collapsed": false,
    "ExecuteTime": {
     "end_time": "2023-12-15T09:31:05.130501Z",
     "start_time": "2023-12-15T09:31:05.117495Z"
    }
   },
   "id": "f3ff8a826b13b849"
  },
  {
   "cell_type": "code",
   "execution_count": null,
   "outputs": [],
   "source": [],
   "metadata": {
    "collapsed": false
   },
   "id": "f5b1058ef76016a7"
  },
  {
   "cell_type": "code",
   "execution_count": null,
   "outputs": [],
   "source": [],
   "metadata": {
    "collapsed": false
   },
   "id": "c7dc1b2d76b7c7ae"
  },
  {
   "cell_type": "code",
   "execution_count": 28,
   "outputs": [
    {
     "data": {
      "text/plain": "'</stop></radialGradient></defs></svg></a><ul class=\"Menu_MenuNav__EOf3X\"><li class=\"Menu_MenuItem__wI1yA\" data-attribute-id=\"gnb\" data-gnb-kind=\"jobs\"><a href=\"/wdlist\" class=\"Menu_jobListLink__GYHAI\"><span><span class=\"SvgIcon_SvgIcon__root__8vwon Menu_categoryIcon__cARwU\"><svg class=\"SvgIcon_SvgIcon__root__svg__DKYBi\" viewBox=\"0 0 20 20\"><path fill-rule=\"evenodd\" clip-rule=\"evenodd\" d=\"M2.45837 5C2.45837 4.51675 2.85012 4.125 3.33337 4.125H16.6667C17.15 4.125 17.5417 4.51675 17.5417 5C17.5417 5.48325 17.15 5.875 16.6667 5.875H3.33337C2.85012 5.875 2.45837 5.48325 2.45837 5ZM2.45837 15C2.45837 14.5168 2.85012 14.125 3.33337 14.125H11.6667C12.15 14.125 12.5417 14.5168 12.5417 15C12.5417 15.4832 12.15 15.875 11.6667 15.875H3.33337C2.85012 15.875 2.45837 15.4832 2.45837 15ZM3.33337 9.125C2.85012 9.125 2.45837 9.51675 2.45837 10C2.45837 10.4832 2.85012 10.875 3.33337 10.875H16.6667C17.15 10.875 17.5417 10.4832 17.5417 10C17.5417 9.51675 17.15 9.125 16.6667 9.125H3.33337Z\"></path><path d=\"M2.60413 5.00004C2.60413 4.59733 2.93059 4.27087 3.33329 4.27087H16.6666C17.0693 4.27087 17.3958 4.59733 17.3958 5.00004C17.3958 5.40275 17.0693 5.72921 16.6666 5.72921H3.33329C2.93059 5.72921 2.60413 5.40275 2.60413 5.00004Z\"></path><path d=\"M2.60413 15C2.60413 14.5973 2.93059 14.2709 3.33329 14.2709H11.6666C12.0693 14.2709 12.3958 14.5973 12.3958 15C12.3958 15.4027 12.0693 15.7292 11.6666 15.7292H3.33329C2.93059 15.7292 2.60413 15.4027 2.60413 15Z\"></path><path d=\"M3.33329 9.27087C2.93059 9.27087 2.60413 9.59733 2.60413 10C2.60413 10.4027 2.93059 10.7292 3.33329 10.7292H16.6666C17.0693 10.7292 17.3958 10.4027 17.3958 10C17.3958 9.59733 17.0693 9.27087 16.6666 9.27087H3.33329Z\"></path></svg></span>채용</span></a><div class=\"Menu_MenuExpandableButtonContainer__9kzdA\"><button type=\"button\" aria-label=\"직군/직무 목록 열기\" aria-controls=\"navbar_overlay_explore\" aria-expanded=\"false\" class=\"Menu_MenuExpandableButton__vPEIA\"><span><span class=\"SvgIcon_SvgIcon__root__8vwon\"><svg class=\"SvgIcon_SvgIcon__root__svg__DKYBi\" viewBox=\"0 0 24 24\"><path d=\"M3.3637 7.36346C3.71517 7.01199 4.28502 7.01199 4.63649 7.36346L12.0001 14.7271L19.3637 7.36346C19.7152 7.01199 20.285 7.01199 20.6365 7.36346C20.988 7.71493 20.988 8.28478 20.6365 8.63625L12.6365 16.6362C12.285 16.9877 11.7152 16.9877 11.3637 16.6362L3.3637 8.63625C3.01223 8.28478 3.01223 7.71493 3.3637 7.36346Z\"></path></svg></span></span></button></div></li><li class=\"Menu_MenuItem__wI1yA\" data-attribute-id=\"gnb\" data-gnb-kind=\"event\"><a href=\"/events\"><span>커리어</span></a></li><li class=\"Menu_MenuItem__wI1yA\" data-attribute-id=\"gnb\" data-gnb-kind=\"community\"><a href=\"/community\"><span>소셜</span></a></li><li class=\"Menu_MenuItem__wI1yA\" data-attribute-id=\"gnb\" data-gnb-kind=\"resume\"><a href=\"/cv/list\"><span>이력서</span></a></li><li class=\"Menu_MenuItem__wI1yA\" data-attribute-id=\"gnb\" data-gnb-kind=\"freelancer\"><a href=\"https://www.wanted.co.kr/gigs/experts\" target=\"_blank\" rel=\"noopener noreferrer\"><span>프리랜서</span></a></li><li class=\"Menu_MenuItem__wI1yA\" data-attribute-id=\"gnb\" data-gnb-kind=\"showMore\"><button class=\"Menu_ShowMoreButton__O_j4V\" type=\"button\" aria-controls=\"navbar_overlay_showMore\" aria-expanded=\"false\"><span>더보기</span></button></li></ul><aside class=\"Aside_aside__f0SVC\"><ul class=\"Aside_asideList__3WNyu\"><li><button type=\"button\" class=\"Aside_searchButton__Xhqq3 Aside_isNotMobileDevice__WuwWh\" aria-label=\"검색\" aria-haspopup=\"dialog\" aria-expanded=\"false\" aria-controls=\"nav_searchbar\" data-attribute-id=\"gnb\" data-gnb-kind=\"search\"><span class=\"SvgIcon_SvgIcon__root__8vwon\"><svg class=\"SvgIcon_SvgIcon__root__svg__DKYBi\" viewBox=\"0 0 24 24\"><path fill-rule=\"evenodd\" clip-rule=\"evenodd\" d=\"M9.99949 2.1001C5.63644 2.1001 2.09949 5.63705 2.09949 10.0001C2.09949 14.3631 5.63644 17.9001 9.99949 17.9001C11.8568 17.9001 13.5644 17.2592 14.9132 16.1864L19.8632 21.1365C20.2147 21.4879 20.7846 21.4879 21.136 21.1365C21.4875 20.785 21.4875 20.2151 21.136 19.8637L16.186 14.9136C17.2586 13.5648 17.8995 11.8573 17.8995 10.0001C17.8995 5.63705 14.3625 2.1001 9.99949 2.1001ZM3.89949 10.0001C3.89949 6.63116 6.63055 3.9001 9.99949 3.9001C13.3684 3.9001 16.0995 6.63116 16.0995 10.0001C16.0995 13.369 13.3684 16.1001 9.99949 16.1001C6.63055 16.1001 3.89949 13.369 3.89949 10.0001Z\" fill=\"#171717\"></path></svg></span></button></li><li class=\"Aside_signUpButtonContainer___0wTS\"><button class=\"Button_Button__root__V1ie3 Button_Button__outlined__H2mkd Button_Button__outlinedAssistive__mBcQK Button_Button__outlinedSizeSmall__JJmOo Aside_signUpButton__pY721\" type=\"button\" data-attribute-id=\"gnb\" data-gnb-kind=\"signupLogin\"><span class=\"Button_Button__label__1Kk0v\"><span class=\"Typography_Typography__root__xYuMs Typography_Typography__label2__BRssq Typography_Typography__weightBold__e15ql\">회원가입</span></span><span class=\"Button_Button__interaction__kkYaa\"></span></button></li><li><a class=\"Button_Button__root__V1ie3 Button_Button__outlined__H2mkd Button_Button__outlinedAssistive__mBcQK Button_Button__outlinedSizeSmall__JJmOo Aside_dashboardButton__WUch3\" type=\"button\" href=\"/dashboard\" data-attribute-id=\"gnb\" data-gnb-kind=\"forEmployers\"><span class=\"Button_Button__label__1Kk0v\"><span class=\"Typography_Typography__root__xYuMs Typography_Typography__label2__BRssq Typography_Typography__weightMedium__O0Rdi\">기업 서비스</span></span><span class=\"Button_Button__interaction__kkYaa\"></span></a></li><li><button class=\"Aside_menuButton__vkjY0\" type=\"button\" data-attribute-id=\"gnb\" data-gnb-kind=\"more\" aria-label=\"더보기\"><span class=\"SvgIcon_SvgIcon__root__8vwon\"><svg class=\"SvgIcon_SvgIcon__root__svg__DKYBi\" viewBox=\"0 0 24 24\"><path fill-rule=\"evenodd\" clip-rule=\"evenodd\" d=\"M3.1001 4.99998C3.1001 4.50292 3.50304 4.09998 4.0001 4.09998H20.0001C20.4972 4.09998 20.9001 4.50292 20.9001 4.99998C20.9001 5.49703 20.4972 5.89998 20.0001 5.89998H4.0001C3.50304 5.89998 3.1001 5.49703 3.1001 4.99998ZM3.1001 19C3.1001 18.5029 3.50304 18.1 4.0001 18.1H20.0001C20.4972 18.1 20.9001 18.5029 20.9001 19C20.9001 19.497 20.4972 19.9 20.0001 19.9H4.0001C3.50304 19.9 3.1001 19.497 3.1001 19ZM4.0001 11.1C3.50304 11.1 3.1001 11.5029 3.1001 12C3.1001 12.497 3.50304 12.9 4.0001 12.9H20.0001C20.4972 12.9 20.9001 12.497 20.9001 12C20.9001 11.5029 20.4972 11.1 20.0001 11.1H4.0001Z\"></path><path d=\"M3.10034 4.99998C3.10034 4.50292 3.50329 4.09998 4.00034 4.09998H20.0003C20.4974 4.09998 20.9003 4.50292 20.9003 4.99998C20.9003 5.49703 20.4974 5.89998 20.0003 5.89998H4.00034C3.50329 5.89998 3.10034 5.49703 3.10034 4.99998Z\"></path><path d=\"M3.10034 19C3.10034 18.5029 3.50329 18.1 4.00034 18.1H20.0003C20.4974 18.1 20.9003 18.5029 20.9003 19C20.9003 19.497 20.4974 19.9 20.0003 19.9H4.00034C3.50329 19.9 3.10034 19.497 3.10034 19Z\"></path><path d=\"M4.00034 11.1C3.50329 11.1 3.10034 11.5029 3.10034 12C3.10034 12.497 3.50329 12.9 4.00034 12.9H20.0003C20.4974 12.9 20.9003 12.497 20.9003 12C20.9003 11.5029 20.4974 11.1 20.0003 11.1H4.00034Z\"></path></svg></span></button></li></ul></aside></nav></div></div><div class=\"Padding_padding___Nyki undefined\"></div><div class=\"JobDetail_cn__WezJh\"><div class=\"JobDetail_contentWrapper__DQDB6\"><div class=\"JobContentDim_className__yx7tV\"><div class=\"JobContentDim_image__ZlqmC\"></div><section class=\"JobContentDim_header__LRYxs\"><div class=\"JobContentDim_headerTitle__JWBnZ\"></div><div class=\"JobContentDim_headerSub__oxKJw\"></div></section><section class=\"JobContentDim_description__b5tC4\"><div></div><div></div><div></div><div></div><div></div><div></div><div></div></section></div></div></div><div class=\"Snackbars_root__TdYCB\"></div><div id=\"modal\"></div></div><script id=\"__NEXT_DATA__\" type=\"application/json\" crossorigin=\"anonymous\">{\"props\":{\"pageProps\":{\"head\":{\"195530\":{\"status\":\"active\",\"title_thumb_img\":\"https://static.wanted.co.kr/images/company/8040/5wemaaq53ybzu6dt__400_400.jpg\",\"is_newbie\":false,\"currency\":\"KRW\",\"logo_thumb_img\":\"https://static.wanted.co.kr/images/wdes/0_5.6120bdd5.jpg\",\"logo_img\":\"https://static.wanted.co.kr/images/wdes/0_4.6120bdd5.jpg\",\"address\":{\"country\":\"한국\",\"id\":6357,\"location\":\"서울\"},\"confirm_time\":\"2023-12-13T09:43:38\",\"id\":195530,\"category\":\"IT\",\"main_tasks\":\"• AWS 인프라 운영 및 비용/성능 최적화 (예: EC2, RDS, .. )\\\\n• AWS 보안 아키텍처 설계, 구축, 운영 및 자동화 개발\\\\n• 클라우드 표준 보안 요구 사항 개발\\\\n• 인프라/어플리케이션 모니터링 시스템 구축 및 운영\\\\n• Automated CI/CD 시스템 구축 및 운영\\\\n• 시스템 / 데이터 백업 정책 설정 및 운영\",\"requirements\":\"• AWS 클라우드 환경에서 3년 이상의 서비스 구축 및 운영 경험\\\\n• VPC flow, GuardDuty, CloudTrail의 로그 분석 경험\\\\n• 클라우드 환경에서의 보안 서비스 (Security Group, Network ACL, WAF) 정책 설정 경험\\\\n• ISMS / ISMS-P 인증 심사 대응을 위한 기술 지원 업무 경험이 있는 분\",\"job_country\":\"KR\",\"industry\":\"IT, 컨텐츠\",\"company_id\":8040,\"title_img\":\"https://static.wanted.co.kr/images/company/8040/5wemaaq53ybzu6dt__1080_790.jpg\",\"due_time\":null,\"location\":\"서울특별시 강남구 테헤란로 518\",\"is_expert\":true,\"sub_categories\":[\"Security Engineer\",\"보안 엔지니어\",\"DevOps / System Admin\",\"DevOps / 시스템 관리자\"],\"position\":\"데브옵스 엔지니어 (보안)\",\"reward\":1000000,\"jd\":\"• 트리플콤마는 국내 최초 서류인증 기반 프리미엄 매칭 서비스인 ‘골드스푼’ 을 개발한 기업입니다.\\\\n\\\\n• 2018년 당시, 불신과 의심으로 가득차있던 소개팅 앱 시장에서 골드스푼은 국내 최초로 \\'본인명의 서류 기반\\' 매칭 서비스를 개발하여 \\'믿을 수 있는 소개팅 서비스\\'라는 개념을 만들어냈으며, 전문직, 자산가, 고소득 직장인 등 자격을 갖춘 남성들에게만 가입을 허용해 \\'신뢰\\' \\'탁월함\\' \\'안전\\' 을 상징하는 서비스가 되었습니다. \\\\n\\\\n• 2019년에 기술보증기금으로부터 벤처기업으로 선정되었으며 공중보건 의사협회, 치과의사협회, 한의사협회와 단독제휴를 맺은 유일한 소개팅 서비스입니다.\\\\n\\\\n• 현재 해당 분야에서 가장 빠르게 성장하고 있는 골드스푼 서비스를 발전시키기 위해 지속적으로 우수한 인재를 충원하고 있으며 이에 채용공고를 올리게 되었습니다.\\\\n\\\\n• 2023년 10월에는 40대를 위한 신규 서비스인 \\'더멤버스\\'를 출시하였고 영업을 시작하였습니다.\\\\n\\\\n* 탁월한 인재에게 최고의 보상과 성취감을 제공하는 트리플콤마에서 재능을 펼쳐보세요! *\\\\n\\\\n\\\\n주요업무\\\\n• AWS 인프라 운영 및 비용/성능 최적화 (예: EC2, RDS, .. )\\\\n• AWS 보안 아키텍처 설계, 구축, 운영 및 자동화 개발\\\\n• 클라우드 표준 보안 요구 사항 개발\\\\n• 인프라/어플리케이션 모니터링 시스템 구축 및 운영\\\\n• Automated CI/CD 시스템 구축 및 운영\\\\n• 시스템 / 데이터 백업 정책 설정 및 운영\\\\n\\\\n자격요건\\\\n• AWS 클라우드 환경에서 3년 이상의 서비스 구축 및 운영 경험\\\\n• VPC flow, GuardDuty, CloudTrail의 로그 분석 경험\\\\n• 클라우드 환경에서의 보안 서비스 (Security Group, Network ACL, WAF) 정책 설정 경험\\\\n• ISMS / ISMS-P 인증 심사 대응을 위한 기술 지원 업무 경험이 있는 분\\\\n\\\\n우대사항\\\\n• ISMS-P 인증 심사원 자격 보유자\\\\n• AWS 클라우드 환경에서의 보안을 경험해 보신 분\\\\n• IaC(Infrastructure as Code)에 대한 이해가 있으신 분\\\\n• SIEM 시스템을 구축 운영해 보신 분\\\\n• Prowler 보안툴 사용 경험이 있으신 분\\\\n\\\\n혜택 및 복지\\\\n1. 합당한 보상\\\\n\\\\n• 뛰어난 인재에게 합당한 보상을 지급합니다. \\\\n• 열심히 하는만큼 더 받을 수 있도록 성과에 따른 인센티브도 존재합니다.\\\\n\\\\n2. 근무 여건의 강점\\\\n\\\\n• 유연근무제를 시행하고 있습니다.\\\\n- 주 1회 재택근무\\\\n- 조직 컨디션에 따라 유연근무제 확대를 지속 검토합니다.\\\\n• 2호선 삼성역 2분거리 초역세권에 사무실이 있습니다.\\\\n• 맥주를 무제한으로 드실 수 있고 고급 커피머신이 준비되어 있습니다.\\\\n• 모든 직원이 서로 ~님으로 호칭하고 존댓말을 사용하는 수평적인 문화입니다.\\\\n• 매월 20만원씩 충전되는 식대 법인카드를 제공합니다\\\\n\\\\n3. 그 밖의 강점들\\\\n\\\\n• 반려동물과 함께 출근 가능합니다.\\\\n• 자유롭게 연차/반차를 사용합니다.\\\\n• 일이 없어도 억지로 야근을 하거나, 눈치 보면서 퇴근을 하지 않습니다.\\\\n• 경조사비/경조휴가를 지원합니다.\\\\n• 식대를 제공하고 간식을 무제한 제공합니다.\\\\n• 4대보험을 지원합니다.\\\\n\\\\n\",\"company_name\":\"트리플콤마(골드스푼)\",\"lang\":\"ko\"}}},\"features\":{\"eas_influx_abtest\":{\"value\":\"control\"},\"gigs_clienthome_change_contents\":{\"value\":\"treatment\"},\"gigs_clienthome_gnb_naming_change\":{\"value\":\"experiment-a\"},\"gigs_premium_average_estimate\":{\"value\":\"show\"}},\"serverState\":{\"core\":{\"app\":{},\"me\":{\"is_first_access\":false,\"status\":\"failure\",\"data\":{\"username\":\"\"},\"updated\":true},\"tag\":{\"status\":\"success\",\"districts\":[{\"id\":931,\"image\":\"https://static.wanted.co.kr/images/tags/41dd250a-fa56-11e'"
     },
     "execution_count": 28,
     "metadata": {},
     "output_type": "execute_result"
    }
   ],
   "source": [
    "idx = page_source.find('혜택 및 복지')\n",
    "page_source[idx-10000:idx+1000]"
   ],
   "metadata": {
    "collapsed": false,
    "ExecuteTime": {
     "end_time": "2023-12-15T09:28:34.465537Z",
     "start_time": "2023-12-15T09:28:34.450106Z"
    }
   },
   "id": "4da305f308b1ba4f"
  },
  {
   "cell_type": "code",
   "execution_count": 23,
   "outputs": [
    {
     "data": {
      "text/plain": "[<meta charset=\"utf-8\"/>,\n <meta content=\"width=device-width, initial-scale=1.0\" name=\"viewport\"/>,\n <meta content=\"IE=edge\" http-equiv=\"X-UA-Compatible\"/>,\n <meta content=\"no-store\" http-equiv=\"cache-control\"/>,\n <meta content=\"website\" property=\"og:type\"/>,\n <meta content=\"ko_KR\" property=\"og:locale\"/>,\n <meta content=\"316787678519888\" property=\"fb:app_id\"/>,\n <meta content=\"#fffffe\" name=\"theme-color\"/>,\n <meta content=\"#ffffff\" name=\"msapplication-TileColor\"/>,\n <meta content=\"//static.wanted.co.kr/favicon/new/144x144.png\" name=\"msapplication-TileImage\"/>,\n <meta content=\"ef4f7f8504106401fe915b922514a5b352f59ca2\" name=\"naver-site-verification\"/>,\n <meta content=\"KEXLzgQBOVNqw8uNBWOXYOz2L4vUApbKxqxV6twdkxQ\" name=\"google-site-verification\"/>,\n <meta content=\"[트리플콤마(골드스푼)] 데브옵스 엔지니어 (보안) 채용 | 원티드\" property=\"og:title\"/>,\n <meta content=\"트리플콤마(골드스푼)에 지원하고 합격하면 보상금 50만원\n 포지션: 데브옵스 엔지니어 (보안)\n 주요 업무: • AWS 인프라 운영 및 비용/성능 최적화 (예: EC2, RDS, .. )\n • AWS 보안 아키텍처 설계, 구축, 운영 및 자동화 개발\n • 클라우드 표준 보안 요구 사항 개발\n • 인프라/어플리케이션 모니터링 시스템 구축 및 운영\n • Automated CI/CD 시스템 구축 및 운영\n • 시스템 / 데이터 백업 정책 설정 및 운영\n 자격 요건: • AWS 클라우드 환경에서 3년 이상의 서비스 구축 및 운영 경험\n • VPC flow, GuardDuty, CloudTrail의 로그 분석 경험\n • 클라우드 환경에서의 보안 서비스 (Security Group, Network ACL, WAF) 정책 설정 경험\n • ISMS / ISMS-P 인증 심사 대응을 위한 기술 지원 업무 경험이 있는 분\n 회사 위치: 서울\" name=\"description\"/>,\n <meta content=\"트리플콤마(골드스푼)에 지원하고 합격하면 보상금 50만원\" property=\"og:description\"/>,\n <meta content=\"https://static.wanted.co.kr/images/company/8040/5wemaaq53ybzu6dt__400_400.jpg\" property=\"og:image\"/>,\n <meta content=\"400\" property=\"og:image:width\"/>,\n <meta content=\"400\" property=\"og:image:height\"/>,\n <meta content=\"원티드\" property=\"og:site_name\"/>,\n <meta content=\"데브옵스 엔지니어 (보안), Security Engineer, 보안 엔지니어, DevOps / System Admin, DevOps / 시스템 관리자, 원티드, wanted, 채용, 채용공고, 채용사이트, 해외채용, 해외취업, 이직, 경력직\" name=\"keywords\"/>,\n <meta content=\"https://www.wanted.co.kr/wd/195530\" property=\"og:url\"/>,\n <meta charset=\"utf-8\"/>,\n <meta content=\"24\" name=\"next-head-count\"/>]"
     },
     "execution_count": 23,
     "metadata": {},
     "output_type": "execute_result"
    }
   ],
   "source": [
    "soup.find_all(\"meta\")"
   ],
   "metadata": {
    "collapsed": false,
    "ExecuteTime": {
     "end_time": "2023-12-15T09:26:48.345756Z",
     "start_time": "2023-12-15T09:26:48.327385Z"
    }
   },
   "id": "6197931627d5150e"
  },
  {
   "cell_type": "code",
   "execution_count": null,
   "outputs": [],
   "source": [],
   "metadata": {
    "collapsed": false
   },
   "id": "b3204805764fd685"
  },
  {
   "cell_type": "code",
   "execution_count": null,
   "outputs": [],
   "source": [],
   "metadata": {
    "collapsed": false
   },
   "id": "9113e75f5f2054f1"
  },
  {
   "cell_type": "markdown",
   "source": [
    "---"
   ],
   "metadata": {
    "collapsed": false
   },
   "id": "a171b1bec5aeaca2"
  },
  {
   "cell_type": "code",
   "execution_count": 49,
   "outputs": [],
   "source": [
    "driver.get(\"https://www.wanted.co.kr/wdlist/518\")"
   ],
   "metadata": {
    "collapsed": false,
    "ExecuteTime": {
     "end_time": "2023-12-14T22:01:11.397393Z",
     "start_time": "2023-12-14T22:01:10.893525Z"
    }
   },
   "id": "d0ed0a9e1badb4b5"
  },
  {
   "cell_type": "code",
   "execution_count": 50,
   "outputs": [],
   "source": [
    "driver.maximize_window()"
   ],
   "metadata": {
    "collapsed": false,
    "ExecuteTime": {
     "end_time": "2023-12-14T22:01:12.324860Z",
     "start_time": "2023-12-14T22:01:12.314376Z"
    }
   },
   "id": "78633b32c8b7daf"
  },
  {
   "cell_type": "code",
   "execution_count": 57,
   "outputs": [],
   "source": [
    "element = driver.find_element(By.XPATH, '//*[@id=\"__next\"]/div[1]/div[2]/nav/ul/li[1]/div/button')"
   ],
   "metadata": {
    "collapsed": false,
    "ExecuteTime": {
     "end_time": "2023-12-14T22:02:41.718904Z",
     "start_time": "2023-12-14T22:02:41.711063Z"
    }
   },
   "id": "a8df0543fe6737a4"
  },
  {
   "cell_type": "code",
   "execution_count": 58,
   "outputs": [],
   "source": [
    "driver.execute_script(\"arguments[0].setAttribute('aria-expanded', 'true')\", element)\n"
   ],
   "metadata": {
    "collapsed": false,
    "ExecuteTime": {
     "end_time": "2023-12-14T22:02:43.625929Z",
     "start_time": "2023-12-14T22:02:43.609682Z"
    }
   },
   "id": "52ddca5a8ddb459a"
  },
  {
   "cell_type": "code",
   "execution_count": 21,
   "outputs": [],
   "source": [
    "element_to_hover = driver.find_element(By.CLASS_NAME, 'Menu_MenuItem__wI1yA')"
   ],
   "metadata": {
    "collapsed": false,
    "ExecuteTime": {
     "end_time": "2023-12-14T21:45:02.333616Z",
     "start_time": "2023-12-14T21:45:02.308598Z"
    }
   },
   "id": "1dfead20ffdc1cdc"
  },
  {
   "cell_type": "code",
   "execution_count": 27,
   "outputs": [
    {
     "ename": "TimeoutException",
     "evalue": "Message: \n",
     "output_type": "error",
     "traceback": [
      "\u001B[0;31m---------------------------------------------------------------------------\u001B[0m",
      "\u001B[0;31mTimeoutException\u001B[0m                          Traceback (most recent call last)",
      "Cell \u001B[0;32mIn[27], line 4\u001B[0m\n\u001B[1;32m      1\u001B[0m hover \u001B[38;5;241m=\u001B[39m ActionChains(driver)\u001B[38;5;241m.\u001B[39mmove_to_element(element_to_hover)\n\u001B[1;32m      2\u001B[0m hover\u001B[38;5;241m.\u001B[39mperform()\n\u001B[0;32m----> 4\u001B[0m \u001B[43mWebDriverWait\u001B[49m\u001B[43m(\u001B[49m\u001B[43mdriver\u001B[49m\u001B[43m,\u001B[49m\u001B[43m \u001B[49m\u001B[38;5;241;43m10\u001B[39;49m\u001B[43m)\u001B[49m\u001B[38;5;241;43m.\u001B[39;49m\u001B[43muntil\u001B[49m\u001B[43m(\u001B[49m\n\u001B[1;32m      5\u001B[0m \u001B[43m    \u001B[49m\u001B[38;5;28;43;01mlambda\u001B[39;49;00m\u001B[43m \u001B[49m\u001B[43md\u001B[49m\u001B[43m:\u001B[49m\u001B[43m \u001B[49m\u001B[43md\u001B[49m\u001B[38;5;241;43m.\u001B[39;49m\u001B[43mfind_element\u001B[49m\u001B[43m(\u001B[49m\u001B[43mBy\u001B[49m\u001B[38;5;241;43m.\u001B[39;49m\u001B[43mCLASS_NAME\u001B[49m\u001B[43m,\u001B[49m\u001B[43m \u001B[49m\u001B[38;5;124;43m'\u001B[39;49m\u001B[38;5;124;43mMenu_MenuExpandableButton__vPEIA\u001B[39;49m\u001B[38;5;124;43m'\u001B[39;49m\u001B[43m)\u001B[49m\u001B[38;5;241;43m.\u001B[39;49m\u001B[43mget_attribute\u001B[49m\u001B[43m(\u001B[49m\u001B[38;5;124;43m\"\u001B[39;49m\u001B[38;5;124;43maria-expanded\u001B[39;49m\u001B[38;5;124;43m\"\u001B[39;49m\u001B[43m)\u001B[49m\u001B[43m \u001B[49m\u001B[38;5;241;43m==\u001B[39;49m\u001B[43m \u001B[49m\u001B[38;5;124;43m\"\u001B[39;49m\u001B[38;5;124;43mtrue\u001B[39;49m\u001B[38;5;124;43m\"\u001B[39;49m\n\u001B[1;32m      6\u001B[0m \u001B[43m)\u001B[49m\n",
      "File \u001B[0;32m~/Library/Python/3.8/lib/python/site-packages/selenium/webdriver/support/wait.py:95\u001B[0m, in \u001B[0;36mWebDriverWait.until\u001B[0;34m(self, method, message)\u001B[0m\n\u001B[1;32m     93\u001B[0m     \u001B[38;5;28;01mif\u001B[39;00m time\u001B[38;5;241m.\u001B[39mmonotonic() \u001B[38;5;241m>\u001B[39m end_time:\n\u001B[1;32m     94\u001B[0m         \u001B[38;5;28;01mbreak\u001B[39;00m\n\u001B[0;32m---> 95\u001B[0m \u001B[38;5;28;01mraise\u001B[39;00m TimeoutException(message, screen, stacktrace)\n",
      "\u001B[0;31mTimeoutException\u001B[0m: Message: \n"
     ]
    }
   ],
   "source": [
    "hover = ActionChains(driver).move_to_element(element_to_hover)\n",
    "hover.perform()\n",
    "\n",
    "WebDriverWait(driver, 10).until(\n",
    "    lambda d: d.find_element(By.CLASS_NAME, 'Menu_MenuExpandableButton__vPEIA').get_attribute(\"aria-expanded\") == \"true\"\n",
    ")"
   ],
   "metadata": {
    "collapsed": false,
    "ExecuteTime": {
     "end_time": "2023-12-14T21:48:37.512135Z",
     "start_time": "2023-12-14T21:48:26.922334Z"
    }
   },
   "id": "8efc564f1ea5f351"
  },
  {
   "cell_type": "code",
   "execution_count": 26,
   "outputs": [
    {
     "ename": "TimeoutException",
     "evalue": "Message: \n",
     "output_type": "error",
     "traceback": [
      "\u001B[0;31m---------------------------------------------------------------------------\u001B[0m",
      "\u001B[0;31mTimeoutException\u001B[0m                          Traceback (most recent call last)",
      "Cell \u001B[0;32mIn[26], line 1\u001B[0m\n\u001B[0;32m----> 1\u001B[0m \u001B[43mWebDriverWait\u001B[49m\u001B[43m(\u001B[49m\u001B[43mdriver\u001B[49m\u001B[43m,\u001B[49m\u001B[43m \u001B[49m\u001B[38;5;241;43m10\u001B[39;49m\u001B[43m)\u001B[49m\u001B[38;5;241;43m.\u001B[39;49m\u001B[43muntil\u001B[49m\u001B[43m(\u001B[49m\n\u001B[1;32m      2\u001B[0m \u001B[43m    \u001B[49m\u001B[38;5;28;43;01mlambda\u001B[39;49;00m\u001B[43m \u001B[49m\u001B[43md\u001B[49m\u001B[43m:\u001B[49m\u001B[43m \u001B[49m\u001B[43md\u001B[49m\u001B[38;5;241;43m.\u001B[39;49m\u001B[43mfind_element\u001B[49m\u001B[43m(\u001B[49m\u001B[43mBy\u001B[49m\u001B[38;5;241;43m.\u001B[39;49m\u001B[43mCLASS_NAME\u001B[49m\u001B[43m,\u001B[49m\u001B[43m \u001B[49m\u001B[38;5;124;43m'\u001B[39;49m\u001B[38;5;124;43mMenu_MenuExpandableButton__vPEIA\u001B[39;49m\u001B[38;5;124;43m'\u001B[39;49m\u001B[43m)\u001B[49m\u001B[38;5;241;43m.\u001B[39;49m\u001B[43mget_attribute\u001B[49m\u001B[43m(\u001B[49m\u001B[38;5;124;43m\"\u001B[39;49m\u001B[38;5;124;43maria-expanded\u001B[39;49m\u001B[38;5;124;43m\"\u001B[39;49m\u001B[43m)\u001B[49m\u001B[43m \u001B[49m\u001B[38;5;241;43m==\u001B[39;49m\u001B[43m \u001B[49m\u001B[38;5;124;43m\"\u001B[39;49m\u001B[38;5;124;43mtrue\u001B[39;49m\u001B[38;5;124;43m\"\u001B[39;49m\n\u001B[1;32m      3\u001B[0m \u001B[43m)\u001B[49m\n",
      "File \u001B[0;32m~/Library/Python/3.8/lib/python/site-packages/selenium/webdriver/support/wait.py:95\u001B[0m, in \u001B[0;36mWebDriverWait.until\u001B[0;34m(self, method, message)\u001B[0m\n\u001B[1;32m     93\u001B[0m     \u001B[38;5;28;01mif\u001B[39;00m time\u001B[38;5;241m.\u001B[39mmonotonic() \u001B[38;5;241m>\u001B[39m end_time:\n\u001B[1;32m     94\u001B[0m         \u001B[38;5;28;01mbreak\u001B[39;00m\n\u001B[0;32m---> 95\u001B[0m \u001B[38;5;28;01mraise\u001B[39;00m TimeoutException(message, screen, stacktrace)\n",
      "\u001B[0;31mTimeoutException\u001B[0m: Message: \n"
     ]
    }
   ],
   "source": [],
   "metadata": {
    "collapsed": false,
    "ExecuteTime": {
     "end_time": "2023-12-14T21:48:24.467540Z",
     "start_time": "2023-12-14T21:48:13.992631Z"
    }
   },
   "id": "cec0c6b8628cae78"
  },
  {
   "cell_type": "code",
   "execution_count": 11,
   "outputs": [],
   "source": [
    "soup = BeautifulSoup(driver.page_source, 'html')"
   ],
   "metadata": {
    "collapsed": false,
    "ExecuteTime": {
     "end_time": "2023-12-14T21:34:42.558938Z",
     "start_time": "2023-12-14T21:34:42.332369Z"
    }
   },
   "id": "66ebfe20886a4499"
  },
  {
   "cell_type": "code",
   "execution_count": 13,
   "outputs": [
    {
     "data": {
      "text/plain": "False"
     },
     "execution_count": 13,
     "metadata": {},
     "output_type": "execute_result"
    }
   ],
   "source": [
    "'빅데이터 엔지니어' in soup"
   ],
   "metadata": {
    "collapsed": false,
    "ExecuteTime": {
     "end_time": "2023-12-14T21:35:08.513549Z",
     "start_time": "2023-12-14T21:35:08.495505Z"
    }
   },
   "id": "bd0faedb44d6d25a"
  },
  {
   "cell_type": "code",
   "execution_count": 8,
   "outputs": [
    {
     "data": {
      "text/plain": "<selenium.webdriver.remote.webelement.WebElement (session=\"FFE851B4-400B-4C5B-B2DA-6F020D0243B0\", element=\"node-B29B2C7A-58A2-4AE7-BEA1-913CE9ABEC0A\")>"
     },
     "execution_count": 8,
     "metadata": {},
     "output_type": "execute_result"
    }
   ],
   "source": [
    "driver.find_element(By.CLASS_NAME, 'Menu_jobListLink__GYHAI')"
   ],
   "metadata": {
    "collapsed": false,
    "ExecuteTime": {
     "end_time": "2023-12-14T21:31:55.520483Z",
     "start_time": "2023-12-14T21:31:55.495535Z"
    }
   },
   "id": "e456065d0484617e"
  },
  {
   "cell_type": "code",
   "execution_count": null,
   "outputs": [],
   "source": [],
   "metadata": {
    "collapsed": false
   },
   "id": "28f2ac028aa696bf"
  },
  {
   "cell_type": "code",
   "execution_count": 34,
   "outputs": [
    {
     "ename": "SyntaxError",
     "evalue": "'break' outside loop (20197525.py, line 13)",
     "output_type": "error",
     "traceback": [
      "\u001B[0;36m  Cell \u001B[0;32mIn[34], line 13\u001B[0;36m\u001B[0m\n\u001B[0;31m    break\u001B[0m\n\u001B[0m    ^\u001B[0m\n\u001B[0;31mSyntaxError\u001B[0m\u001B[0;31m:\u001B[0m 'break' outside loop\n"
     ]
    }
   ],
   "source": [
    "headers = {\n",
    "    'User-Agent': 'Mozilla/5.0 (Macintosh; Intel Mac OS X 10_15_7) AppleWebKit/537.36 (KHTML, like Gecko) Chrome/88.0.4324.150 Safari/537.36'\n",
    "}\n",
    "\n",
    "id_list = []\n",
    "recruit_page = 1\n",
    "with requests.Session() as s:\n",
    "\tresponse = s.get(f\"https://www.saramin.co.kr/zf_user/search?cat_kewd=83&recruitPageCount=100&recruitPage={recruit_page}\", headers=headers)\n",
    "\t\n",
    "soup = BeautifulSoup(response.text, 'html.parser')\n",
    "contents = soup.find_all('div', class_='item_recruit')\n",
    "if not contents:\n",
    "\tbreak\n",
    "for content in contents:\n",
    "\tid_list.append(content.get('value'))\n",
    "\n",
    "recruit_page += 1\n",
    "with requests.Session() as s:\n",
    "\tresponse = s.get(f\"https://www.saramin.co.kr/zf_user/search?cat_kewd=83&recruitPageCount=100&recruitPage={recruit_page}\", headers=headers)"
   ],
   "metadata": {
    "collapsed": false,
    "ExecuteTime": {
     "end_time": "2023-10-28T17:49:04.375465Z",
     "start_time": "2023-10-28T17:49:03.065704Z"
    }
   },
   "id": "94579bbb56f02c5d"
  },
  {
   "cell_type": "code",
   "execution_count": 50,
   "outputs": [
    {
     "data": {
      "text/plain": "bs4.element.Tag"
     },
     "execution_count": 50,
     "metadata": {},
     "output_type": "execute_result"
    }
   ],
   "source": [
    "type(content)"
   ],
   "metadata": {
    "collapsed": false,
    "ExecuteTime": {
     "end_time": "2023-10-28T17:53:21.194894Z",
     "start_time": "2023-10-28T17:53:21.185516Z"
    }
   },
   "id": "205722b5bdd6800d"
  },
  {
   "cell_type": "code",
   "execution_count": 60,
   "outputs": [
    {
     "name": "stdout",
     "output_type": "stream",
     "text": [
      "펜타시스템 37기 신입사원 공개채용\n"
     ]
    }
   ],
   "source": [
    "for content in soup.find_all('div', class_='item_recruit'):\n",
    "\tprint(content.find('h2', class_='job_tit').find('a').get('title'))\n",
    "\t# print(content)\n",
    "\n",
    "\tbreak"
   ],
   "metadata": {
    "collapsed": false,
    "ExecuteTime": {
     "end_time": "2023-10-28T17:55:49.464509Z",
     "start_time": "2023-10-28T17:55:49.457232Z"
    }
   },
   "id": "3679baae7388c078"
  },
  {
   "cell_type": "code",
   "execution_count": 19,
   "outputs": [
    {
     "data": {
      "text/plain": "755"
     },
     "execution_count": 19,
     "metadata": {},
     "output_type": "execute_result"
    }
   ],
   "source": [
    "len(id_list)"
   ],
   "metadata": {
    "collapsed": false,
    "ExecuteTime": {
     "end_time": "2023-10-28T16:30:34.689605Z",
     "start_time": "2023-10-28T16:30:34.680943Z"
    }
   },
   "id": "9943a5c6640bd3be"
  },
  {
   "cell_type": "code",
   "execution_count": 23,
   "outputs": [],
   "source": [
    "contents = soup.find_all('div', class_='item_recruit')"
   ],
   "metadata": {
    "collapsed": false,
    "ExecuteTime": {
     "end_time": "2023-10-28T16:32:04.410410Z",
     "start_time": "2023-10-28T16:32:04.377744Z"
    }
   },
   "id": "9e67bfcf3d2173f"
  },
  {
   "cell_type": "code",
   "execution_count": 5,
   "outputs": [
    {
     "name": "stderr",
     "output_type": "stream",
     "text": [
      "/var/folders/fb/xtftd5y96nl3xc10kvb6cd4w0000gn/T/ipykernel_12548/3322587434.py:24: DeprecationWarning: invalid escape sequence '\\/'\n",
      "  recruit_contents.encode('utf-8').decode('unicode_escape')\n"
     ]
    }
   ],
   "source": [
    "recruit_content_list = []\n",
    "\n",
    "for i, _id in enumerate(id_list):\n",
    "\twith requests.Session() as s:\n",
    "\t\tresponse_detail = s.get(f\"https://www.saramin.co.kr/zf_user/jobs/relay/view?rec_idx={_id}\", headers=headers)\n",
    "\t\n",
    "\tsoup_detail = BeautifulSoup(response_detail.text, 'html.parser')\n",
    "\n",
    "\trecruit_content = \"\"\n",
    "\tfor i, content in enumerate(soup_detail.find_all('script')):\n",
    "\t\tif 'recruit_content' in content.text:\n",
    "\t\t\trecruit_content = content\n",
    "\t\t\tbreak\n",
    "\t\n",
    "\tif recruit_content == \"\":\n",
    "\t\tcontinue\n",
    "\t\n",
    "\tcontent_text = recruit_content.text\n",
    "\tstart_index = content_text.index('\"recruit_contents\":\"')\n",
    "\tend_index = content_text.index('\",\"kindness_expired_dt\"')\n",
    "\trecruit_contents = content_text[start_index+len('\"recruit_contents\":\"'):end_index]\n",
    "\t\n",
    "\trecruit_content_list.append(\n",
    "\t\trecruit_contents.encode('utf-8').decode('unicode_escape')\n",
    "    )\n",
    "\t\n",
    "\tif i >= 10:\n",
    "\t\tbreak"
   ],
   "metadata": {
    "collapsed": false,
    "ExecuteTime": {
     "end_time": "2023-10-28T14:13:18.745804Z",
     "start_time": "2023-10-28T14:13:18.143363Z"
    }
   },
   "id": "ecd2f34a013a69f2"
  },
  {
   "cell_type": "code",
   "execution_count": 29,
   "outputs": [],
   "source": [
    "soup_detail.find('h1', _class=\"tit_job\")"
   ],
   "metadata": {
    "collapsed": false,
    "ExecuteTime": {
     "end_time": "2023-10-28T17:47:03.142764Z",
     "start_time": "2023-10-28T17:47:03.134384Z"
    }
   },
   "id": "81fe1b53c8e1a179"
  },
  {
   "cell_type": "code",
   "execution_count": 6,
   "outputs": [
    {
     "data": {
      "text/plain": "1"
     },
     "execution_count": 6,
     "metadata": {},
     "output_type": "execute_result"
    }
   ],
   "source": [
    "len(recruit_content_list)"
   ],
   "metadata": {
    "collapsed": false,
    "ExecuteTime": {
     "end_time": "2023-10-28T14:13:19.508224Z",
     "start_time": "2023-10-28T14:13:19.500715Z"
    }
   },
   "id": "cfe7a2bbdb3eb64"
  },
  {
   "cell_type": "code",
   "execution_count": 7,
   "outputs": [
    {
     "data": {
      "text/plain": "['S-Eden 솔루션사업팀 웹 개발 엔지니어 모집 (신입\\\\/경력) 2009년 04월 30일에 설립된 시스템 소프트웨어 개발 및 공급업업종의 소프트웨어자문，개발및공급,컴퓨터관련,컴퓨터관련,유지보수용역사업을 하는 중소기업, 주식회사, 병역특례 인증업체기업 입니다.  및  공통  ㆍ 대졸 이상 (2,3년) 에스이든 JAVA SPRING 솔루션 개발자 모집솔루션 사업팀 0명  ㆍ경력 : 신입\\\\/경력 1년 ~ 10년(주임, 대리, 과장급) 전자정부 프레임워크 사용.  ㆍ정보처리기사 ㆍ해당직무 근무경험, 타 언어(PHP, C 등) 사용 가능자  ㆍ:정규직(수습기간)-3개월 ㆍ:주 5일(월~금) ㆍ:() 서울 금천구 가산동 481-2 에이스하이엔드타워9차 218 - 서울 1호선 가산디지털단지 에서 800m 이내       ㆍ:2023년 9월 13일 (수) 19시 ~ 2023년 10월 13일 (금) 24시 ㆍ: ㆍ: ㆍ:- 이력서, 자기소개서  ㆍ']"
     },
     "execution_count": 7,
     "metadata": {},
     "output_type": "execute_result"
    }
   ],
   "source": [
    "recruit_content_list"
   ],
   "metadata": {
    "collapsed": false,
    "ExecuteTime": {
     "end_time": "2023-10-28T14:13:20.258867Z",
     "start_time": "2023-10-28T14:13:20.253230Z"
    }
   },
   "id": "c31cdaf2f304d4e5"
  },
  {
   "cell_type": "code",
   "execution_count": 10,
   "outputs": [],
   "source": [
    "from kiwipiepy import Kiwi\n",
    "kiwi = Kiwi()"
   ],
   "metadata": {
    "collapsed": false,
    "ExecuteTime": {
     "end_time": "2023-10-28T14:32:26.143437Z",
     "start_time": "2023-10-28T14:32:25.758265Z"
    }
   },
   "id": "aca0d9bfda1ce10c"
  },
  {
   "cell_type": "code",
   "execution_count": 15,
   "outputs": [],
   "source": [
    "token_list = []\n",
    "for content in recruit_content_list:\n",
    "\ttoken_list.extend([\n",
    "\t\ttoken.form for token in kiwi.tokenize(content) if token.tag == 'NNG'\n",
    "\t])"
   ],
   "metadata": {
    "collapsed": false,
    "ExecuteTime": {
     "end_time": "2023-10-28T14:37:09.318348Z",
     "start_time": "2023-10-28T14:37:09.316242Z"
    }
   },
   "id": "3ad169679322804b"
  },
  {
   "cell_type": "code",
   "execution_count": 16,
   "outputs": [
    {
     "data": {
      "text/plain": "['솔루션',\n '사업',\n '팀',\n '웹',\n '개발',\n '엔지니어',\n '모집',\n '신입',\n '경력',\n '설립',\n '시스템',\n '소프트웨어',\n '개발',\n '공급',\n '업',\n '업종',\n '소프트웨어',\n '자문',\n '개발',\n '공급',\n '컴퓨터',\n '관련',\n '컴퓨터',\n '관련',\n '유지',\n '보수',\n '용역',\n '사업',\n '중소기업',\n '주식회사',\n '병역',\n '특례',\n '인증',\n '업체',\n '기업',\n '공통',\n '대졸',\n '이상',\n '솔루션',\n '개발자',\n '모집',\n '솔루션',\n '사업',\n '팀',\n '경력',\n '신입',\n '경력',\n '주임',\n '대리',\n '과장',\n '급',\n '전자',\n '정부',\n '프레임',\n '워크',\n '사용',\n '정보',\n '처리',\n '기사',\n '해당',\n '직무',\n '근무',\n '경험',\n '언어',\n '사용',\n '가능',\n '정규직',\n '수습',\n '기간',\n '주',\n '월',\n '금',\n '가산',\n '디지털',\n '단지',\n '이내',\n '수',\n '금',\n '이력서',\n '자기소개서']"
     },
     "execution_count": 16,
     "metadata": {},
     "output_type": "execute_result"
    }
   ],
   "source": [
    "token_list"
   ],
   "metadata": {
    "collapsed": false,
    "ExecuteTime": {
     "end_time": "2023-10-28T14:37:11.914131Z",
     "start_time": "2023-10-28T14:37:11.909554Z"
    }
   },
   "id": "eb4aa7afa18eaa8a"
  },
  {
   "cell_type": "code",
   "execution_count": 114,
   "outputs": [],
   "source": [],
   "metadata": {
    "collapsed": false,
    "ExecuteTime": {
     "end_time": "2023-10-28T08:39:25.123359Z",
     "start_time": "2023-10-28T08:39:25.097173Z"
    }
   },
   "id": "cde26b087953dcb4"
  },
  {
   "cell_type": "code",
   "execution_count": null,
   "outputs": [],
   "source": [
    "from slimit.parser import Parser\n",
    "from slimit.visitors import nodevisitor\n",
    "from slimit import ast"
   ],
   "metadata": {
    "collapsed": false
   },
   "id": "993aa2dd495330ce"
  }
 ],
 "metadata": {
  "kernelspec": {
   "display_name": "Python 3",
   "language": "python",
   "name": "python3"
  },
  "language_info": {
   "codemirror_mode": {
    "name": "ipython",
    "version": 2
   },
   "file_extension": ".py",
   "mimetype": "text/x-python",
   "name": "python",
   "nbconvert_exporter": "python",
   "pygments_lexer": "ipython2",
   "version": "2.7.6"
  }
 },
 "nbformat": 4,
 "nbformat_minor": 5
}
